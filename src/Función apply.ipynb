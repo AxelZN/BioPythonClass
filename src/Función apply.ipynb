{
 "cells": [
  {
   "cell_type": "markdown",
   "metadata": {},
   "source": [
    "# Función Apply en R\n",
    "<font color='red'>(Este notebook no tiene comandos mágicos de IPython, pues estos no son compatibles con el kernel de R)</font>\n",
    "\n"
   ]
  },
  {
   "cell_type": "markdown",
   "metadata": {},
   "source": [
    "## Índice \n",
    "* [1. Familia Apply](#familiaapply)\n",
    "\n",
    "* [2. Tapply](#tapply)\n",
    "\n",
    "* [3. Material Extra](#materialextra)"
   ]
  },
  {
   "cell_type": "markdown",
   "metadata": {},
   "source": [
    "## 1. Familia Apply\n",
    "<a class=\"anchor\" id=\"familiaapply\"></a>\n",
    "La familia apply nos permite realizar funciones sobre objetos de R tales como arreglos y matrices, estas funciones pueden estar incluidas en el paquete base de R, o pueden ser definidas por el usuario. \n",
    "\n",
    "La ventaja de usar funciones apply() es evitar usar ciclos iterativos y hacer más con menos líneas. \n",
    "\n",
    "Los argumentos para la función apply son: \n",
    "apply(X, MARGIN, FUN, …)\n",
    "\n",
    "X: es el objeto sobre el cual queremos operar.\n",
    "\n",
    "MARGIN: nos permite especificar la dimensión en la cual se hará la función. \n",
    "    MARGIN = 1 actúa sobre filas.\n",
    "    MARGIN = 2 actúa sobre columnas.\n",
    "    MARGIN = c(1,2) indica filas y columnas.\n",
    "    \n",
    "FUN: este argumento recibe el nombre de una función de R (min, sum, etc) o un bloque de código el cual servirá como función.\n",
    "<img src=\"https://s3.amazonaws.com/assets.datacamp.com/blog_assets/Apply+Tutorial+R/content_content_apply2.png\">"
   ]
  },
  {
   "cell_type": "code",
   "execution_count": 6,
   "metadata": {},
   "outputs": [
    {
     "data": {
      "text/html": [
       "<ol class=list-inline>\n",
       "\t<li>5.5</li>\n",
       "\t<li>15.5</li>\n",
       "\t<li>25.5</li>\n",
       "\t<li>35.5</li>\n",
       "\t<li>45.5</li>\n",
       "\t<li>55.5</li>\n",
       "\t<li>65.5</li>\n",
       "\t<li>75.5</li>\n",
       "\t<li>85.5</li>\n",
       "\t<li>95.5</li>\n",
       "</ol>\n"
      ],
      "text/latex": [
       "\\begin{enumerate*}\n",
       "\\item 5.5\n",
       "\\item 15.5\n",
       "\\item 25.5\n",
       "\\item 35.5\n",
       "\\item 45.5\n",
       "\\item 55.5\n",
       "\\item 65.5\n",
       "\\item 75.5\n",
       "\\item 85.5\n",
       "\\item 95.5\n",
       "\\end{enumerate*}\n"
      ],
      "text/markdown": [
       "1. 5.5\n",
       "2. 15.5\n",
       "3. 25.5\n",
       "4. 35.5\n",
       "5. 45.5\n",
       "6. 55.5\n",
       "7. 65.5\n",
       "8. 75.5\n",
       "9. 85.5\n",
       "10. 95.5\n",
       "\n",
       "\n"
      ],
      "text/plain": [
       " [1]  5.5 15.5 25.5 35.5 45.5 55.5 65.5 75.5 85.5 95.5"
      ]
     },
     "metadata": {},
     "output_type": "display_data"
    }
   ],
   "source": [
    "matriz<- matrix(1:100, nrow = 10)\n",
    "# usamos apply para obtener el promedio de las columnas de la matriz.\n",
    "apply(X = matriz, MARGIN = 2, FUN = mean)"
   ]
  },
  {
   "cell_type": "code",
   "execution_count": 11,
   "metadata": {},
   "outputs": [
    {
     "data": {
      "text/html": [
       "<table>\n",
       "<tbody>\n",
       "\t<tr><td>451</td><td>461</td><td>471</td><td>481</td><td>491</td><td>501</td><td>511</td><td>521</td><td>531</td><td>541</td></tr>\n",
       "\t<tr><td>452</td><td>462</td><td>472</td><td>482</td><td>492</td><td>502</td><td>512</td><td>522</td><td>532</td><td>542</td></tr>\n",
       "\t<tr><td>453</td><td>463</td><td>473</td><td>483</td><td>493</td><td>503</td><td>513</td><td>523</td><td>533</td><td>543</td></tr>\n",
       "\t<tr><td>454</td><td>464</td><td>474</td><td>484</td><td>494</td><td>504</td><td>514</td><td>524</td><td>534</td><td>544</td></tr>\n",
       "\t<tr><td>455</td><td>465</td><td>475</td><td>485</td><td>495</td><td>505</td><td>515</td><td>525</td><td>535</td><td>545</td></tr>\n",
       "\t<tr><td>456</td><td>466</td><td>476</td><td>486</td><td>496</td><td>506</td><td>516</td><td>526</td><td>536</td><td>546</td></tr>\n",
       "\t<tr><td>457</td><td>467</td><td>477</td><td>487</td><td>497</td><td>507</td><td>517</td><td>527</td><td>537</td><td>547</td></tr>\n",
       "\t<tr><td>458</td><td>468</td><td>478</td><td>488</td><td>498</td><td>508</td><td>518</td><td>528</td><td>538</td><td>548</td></tr>\n",
       "\t<tr><td>459</td><td>469</td><td>479</td><td>489</td><td>499</td><td>509</td><td>519</td><td>529</td><td>539</td><td>549</td></tr>\n",
       "\t<tr><td>460</td><td>470</td><td>480</td><td>490</td><td>500</td><td>510</td><td>520</td><td>530</td><td>540</td><td>550</td></tr>\n",
       "</tbody>\n",
       "</table>\n"
      ],
      "text/latex": [
       "\\begin{tabular}{llllllllll}\n",
       "\t 451 & 461 & 471 & 481 & 491 & 501 & 511 & 521 & 531 & 541\\\\\n",
       "\t 452 & 462 & 472 & 482 & 492 & 502 & 512 & 522 & 532 & 542\\\\\n",
       "\t 453 & 463 & 473 & 483 & 493 & 503 & 513 & 523 & 533 & 543\\\\\n",
       "\t 454 & 464 & 474 & 484 & 494 & 504 & 514 & 524 & 534 & 544\\\\\n",
       "\t 455 & 465 & 475 & 485 & 495 & 505 & 515 & 525 & 535 & 545\\\\\n",
       "\t 456 & 466 & 476 & 486 & 496 & 506 & 516 & 526 & 536 & 546\\\\\n",
       "\t 457 & 467 & 477 & 487 & 497 & 507 & 517 & 527 & 537 & 547\\\\\n",
       "\t 458 & 468 & 478 & 488 & 498 & 508 & 518 & 528 & 538 & 548\\\\\n",
       "\t 459 & 469 & 479 & 489 & 499 & 509 & 519 & 529 & 539 & 549\\\\\n",
       "\t 460 & 470 & 480 & 490 & 500 & 510 & 520 & 530 & 540 & 550\\\\\n",
       "\\end{tabular}\n"
      ],
      "text/markdown": [
       "\n",
       "| 451 | 461 | 471 | 481 | 491 | 501 | 511 | 521 | 531 | 541 |\n",
       "| 452 | 462 | 472 | 482 | 492 | 502 | 512 | 522 | 532 | 542 |\n",
       "| 453 | 463 | 473 | 483 | 493 | 503 | 513 | 523 | 533 | 543 |\n",
       "| 454 | 464 | 474 | 484 | 494 | 504 | 514 | 524 | 534 | 544 |\n",
       "| 455 | 465 | 475 | 485 | 495 | 505 | 515 | 525 | 535 | 545 |\n",
       "| 456 | 466 | 476 | 486 | 496 | 506 | 516 | 526 | 536 | 546 |\n",
       "| 457 | 467 | 477 | 487 | 497 | 507 | 517 | 527 | 537 | 547 |\n",
       "| 458 | 468 | 478 | 488 | 498 | 508 | 518 | 528 | 538 | 548 |\n",
       "| 459 | 469 | 479 | 489 | 499 | 509 | 519 | 529 | 539 | 549 |\n",
       "| 460 | 470 | 480 | 490 | 500 | 510 | 520 | 530 | 540 | 550 |\n",
       "\n"
      ],
      "text/plain": [
       "      [,1] [,2] [,3] [,4] [,5] [,6] [,7] [,8] [,9] [,10]\n",
       " [1,] 451  461  471  481  491  501  511  521  531  541  \n",
       " [2,] 452  462  472  482  492  502  512  522  532  542  \n",
       " [3,] 453  463  473  483  493  503  513  523  533  543  \n",
       " [4,] 454  464  474  484  494  504  514  524  534  544  \n",
       " [5,] 455  465  475  485  495  505  515  525  535  545  \n",
       " [6,] 456  466  476  486  496  506  516  526  536  546  \n",
       " [7,] 457  467  477  487  497  507  517  527  537  547  \n",
       " [8,] 458  468  478  488  498  508  518  528  538  548  \n",
       " [9,] 459  469  479  489  499  509  519  529  539  549  \n",
       "[10,] 460  470  480  490  500  510  520  530  540  550  "
      ]
     },
     "metadata": {},
     "output_type": "display_data"
    }
   ],
   "source": [
    "arreglo <- array(1:1000, dim = c(10,10,10))\n",
    "# obtenemos el promedio de las filas y columnas de nuestro arreglo.\n",
    "apply(X = arreglo, MARGIN = c(1,2), FUN = mean)"
   ]
  },
  {
   "cell_type": "code",
   "execution_count": 9,
   "metadata": {},
   "outputs": [
    {
     "ename": "ERROR",
     "evalue": "Error in apply(vector, MARGIN = 2, sum): dim(X) must have a positive length\n",
     "output_type": "error",
     "traceback": [
      "Error in apply(vector, MARGIN = 2, sum): dim(X) must have a positive length\nTraceback:\n",
      "1. apply(vector, MARGIN = 2, sum)",
      "2. stop(\"dim(X) must have a positive length\")"
     ]
    }
   ],
   "source": [
    "vector <- seq(1:10)\n",
    "# No puede aplicarse la función apply en vectores porque sólo tienen una dimensión.\n",
    "apply(vector, MARGIN = 2, sum)"
   ]
  },
  {
   "cell_type": "markdown",
   "metadata": {},
   "source": [
    "## 2. Tapply\n",
    "<a class=\"anchor\" id=\"tapply\"></a>\n",
    "Esta variación de apply nos permite realizar operaciones sobre elementos individuales de un arreglo sin necesidad de un ciclo For. \n",
    "Sus argumentos son: tapply(X, INDEX, FUN = NULL, …, simplify = )\n",
    "\n",
    "X: es el objeto al que se le puede aplicar el método split, tales como los vectores.\n",
    "\n",
    "INDEX: una lista de factores, le dice a la función como iterar sobre el objeto X.\n",
    "\n",
    "FUN: función que sera aplicada.\n",
    "\n",
    "...: argumentos opcionales para FUN.\n",
    "\n",
    "simplify: TRUE/FALSE, determina el output de apply, en caso de ser \"TRUE\": arroja un arreglo con los resultados de apply. Si es \"FALSE\", arroja una lista. En caso de ser omitido, el predeterminado es \"TRUE\"."
   ]
  },
  {
   "cell_type": "code",
   "execution_count": 15,
   "metadata": {},
   "outputs": [
    {
     "data": {
      "text/html": [
       "<dl class=dl-horizontal>\n",
       "\t<dt>1</dt>\n",
       "\t\t<dd>24</dd>\n",
       "\t<dt>2</dt>\n",
       "\t\t<dd>25.8333333333333</dd>\n",
       "\t<dt>3</dt>\n",
       "\t\t<dd>28</dd>\n",
       "</dl>\n"
      ],
      "text/latex": [
       "\\begin{description*}\n",
       "\\item[1] 24\n",
       "\\item[2] 25.8333333333333\n",
       "\\item[3] 28\n",
       "\\end{description*}\n"
      ],
      "text/markdown": [
       "1\n",
       ":   242\n",
       ":   25.83333333333333\n",
       ":   28\n",
       "\n"
      ],
      "text/plain": [
       "       1        2        3 \n",
       "24.00000 25.83333 28.00000 "
      ]
     },
     "metadata": {},
     "output_type": "display_data"
    }
   ],
   "source": [
    "vector <- (21:30)\n",
    "muestra <- sample(1:3, size = 10, replace = TRUE)\n",
    "# Se aplica la función mean sobre el vector \"vector\", usando los valores de \"muestra\" como factores\n",
    "tapply(vector, muestra, mean)"
   ]
  },
  {
   "cell_type": "code",
   "execution_count": 16,
   "metadata": {},
   "outputs": [
    {
     "ename": "ERROR",
     "evalue": "Error in tapply(vector, muestra, mean): arguments must have same length\n",
     "output_type": "error",
     "traceback": [
      "Error in tapply(vector, muestra, mean): arguments must have same length\nTraceback:\n",
      "1. tapply(vector, muestra, mean)",
      "2. stop(\"arguments must have same length\")"
     ]
    }
   ],
   "source": [
    "vector <- (10:30)\n",
    "muestra <- sample(1:3, size = 10, replace = TRUE)\n",
    "# Ambos elementos deben tener el mismo tamaño, de lo contrario, ocurrirá un error\n",
    "tapply(vector, muestra, mean)"
   ]
  },
  {
   "cell_type": "markdown",
   "metadata": {},
   "source": [
    "## 3. Material Extra \n",
    "<a class=\"anchor\" id=\"materialextra\"></a>\n",
    "### Apply y Tapply\n",
    "<a href=\"https://www.rdocumentation.org/packages/base/versions/3.6.2/topics/apply\">RDocumentation</a>\n",
    "\n",
    "<a href=\"https://www.guru99.com/r-apply-sapply-tapply.html\">Guru99</a>\n",
    "\n",
    "<a href=\"https://www.datacamp.com/community/tutorials/r-tutorial-apply-family\">DataCamp</a>\n"
   ]
  }
 ],
 "metadata": {
  "kernelspec": {
   "display_name": "R",
   "language": "R",
   "name": "ir"
  },
  "language_info": {
   "codemirror_mode": "r",
   "file_extension": ".r",
   "mimetype": "text/x-r-source",
   "name": "R",
   "pygments_lexer": "r",
   "version": "3.6.1"
  }
 },
 "nbformat": 4,
 "nbformat_minor": 4
}
