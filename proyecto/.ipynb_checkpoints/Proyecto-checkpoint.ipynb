{
 "cells": [
  {
   "cell_type": "markdown",
   "metadata": {},
   "source": [
    "Secciones que faltan:\n",
    "1.6,\n",
    "2.6\n"
   ]
  },
  {
   "cell_type": "code",
   "execution_count": 1,
   "metadata": {},
   "outputs": [],
   "source": [
    "from Bio import Entrez"
   ]
  },
  {
   "cell_type": "code",
   "execution_count": 2,
   "metadata": {},
   "outputs": [],
   "source": [
    "Entrez.email = \"otokani@lcg.unam.mx\""
   ]
  },
  {
   "cell_type": "code",
   "execution_count": 3,
   "metadata": {},
   "outputs": [],
   "source": [
    "handle = Entrez.esearch(db=\"nucleotide\", term=\"sickle AND homo sapiens AND globin NOT chromosome\", retmax=20)"
   ]
  },
  {
   "cell_type": "markdown",
   "metadata": {},
   "source": [
    "Print the resulting database identifiers (not the full sequences).\n",
    "\n",
    "Use the NCBI examples from the previous chapter."
   ]
  },
  {
   "cell_type": "code",
   "execution_count": 4,
   "metadata": {},
   "outputs": [],
   "source": [
    "records = Entrez.read(handle)\n",
    "identifiers = records['IdList']"
   ]
  },
  {
   "cell_type": "code",
   "execution_count": 5,
   "metadata": {},
   "outputs": [
    {
     "name": "stdout",
     "output_type": "stream",
     "text": [
      "['1868032479', '1515564438', '179408', '224959855', '2168937', '183859', '183844']\n"
     ]
    }
   ],
   "source": [
    "print(identifiers)"
   ]
  },
  {
   "cell_type": "markdown",
   "metadata": {},
   "source": [
    "1.2 Retrieve sequences using identifiers\n",
    "\n",
    "Use the identifiers from task 1.1, retrieve the full sequence with the Entrez.efetch function from the NCBI server.\n",
    "\n",
    "The parameter rettype should be 'fasta', retmodeshould be 'xml'.\n",
    "\n",
    "Print the identifier and defline for each entry using a for loop.\n",
    "\n",
    "You can see the available fields for a single record with:\n",
    "\n",
    "print(r.keys())\n"
   ]
  },
  {
   "cell_type": "code",
   "execution_count": 7,
   "metadata": {},
   "outputs": [],
   "source": [
    "handle = Entrez.efetch(db=\"nucleotide\", id=identifiers, retmax=\"20\", \n",
    "         rettype=\"fasta\", retmode=\"xml\")"
   ]
  },
  {
   "cell_type": "code",
   "execution_count": 8,
   "metadata": {},
   "outputs": [],
   "source": [
    "records = Entrez.read(handle)"
   ]
  },
  {
   "cell_type": "code",
   "execution_count": 10,
   "metadata": {},
   "outputs": [
    {
     "name": "stdout",
     "output_type": "stream",
     "text": [
      "{'TSeq_seqtype': StringElement('', attributes={'value': 'nucleotide'}), 'TSeq_orgname': 'Homo sapiens', 'TSeq_length': '318', 'TSeq_defline': 'Homo sapiens A-gamma globin (HBG1) gene, exon 1 and partial cds', 'TSeq_taxid': '9606', 'TSeq_accver': 'MN609913.1', 'TSeq_sequence': 'CAATAGCCTTGACAAGGCAAACTTGACCAATAGTCTTAGAGTATCCAGTGAGGCCAGGGGCCGGCGGCTGGCTAGGGATGAAGAATAAAAGGAAGCACCCTTCAGCAGTTCCACACACTCGCTTCTGGAACGTCTGAGATTATCAATAAGCTCCTAGTCCAGACGCCATGGGTCATTTCACAGAGGAGGACAAGGCTACTATCACAAGCCTGTGGGGCAAGGTGAATGTGGAAGATGCTGGAGGAGAAACCCTGGGAAGGTAGGCTCTGGTGACCAGGACAAGGGAGGGAAGGAAGGACCCTGTGCCTGGCAAAAGTC'}\n",
      "{'TSeq_seqtype': StringElement('', attributes={'value': 'nucleotide'}), 'TSeq_orgname': 'Homo sapiens', 'TSeq_length': '881', 'TSeq_defline': 'Homo sapiens voucher ATGLAB 2018103 hemoglobin beta subunit (HBB) gene, exon 3 and partial cds', 'TSeq_taxid': '9606', 'TSeq_accver': 'MH580289.1', 'TSeq_sequence': 'GTGCTTATTTGCATATTCATAATCTCCCTACTTTATTTTCTTTTATTTTTAATTGATACATAATCATTATACATATTTATGGGTTAAAGTGTAATGTTTTAATATGTGTACACATATTGACCAAATCAGGGTAATTTTGCATTTGTAATTTTAAAAAATGCTTTCTTCTTTTAATATACTTTTTTGTTTATCTTATTTCTAATACTTTCCCTAATCTCTTTCTTTCAGGGCAATAATGATACAATGTATCATGCCTCTTTGCACCATTCTAAAGAATAACAGTGATAATTTCTGGGTTAAGGCAATAGCAATATTTCTGCATATAAATATTTCTGCATATAAATTGTAACTGATGTAAGAGGTTTCATATTGCTAATAGCAGCTACAATCCAGCTACCATTCTGCTTTTATTTTATGGTTGGGATAAGGCTGGATTATTCTGAGTCCAAGCTAGGCCCTTTTGCTAATCATGTTCATACCTCTTATCTTCCTCCCACAGCTCCTGGGCAACGTGCTGGTCTGTGTGCTGGCCCATCACTTTGGCAAAGAATTCACCCCACCAGTGCAGGCTGCCTATCAGAAAGTGGTGGCTGGTGTGGCTAATGCCCTGGCCCACAAGTATCACTAAGCTCGCTTTCTTGCTGTCCAATTTCTATTAAAGGTTCCTTTGTTCCCTAAGTCCAACTACTAAACTGGGGGATATTATGAAGGGCCTTGAGCATCTGGATTCTGCCTAATAAAAAACATTTATTTTCATTGCAATGATGTATTTAAATTATTTCTGAATATTTTACTAAAAAGGGAATGTGGGAGGTCAGTGCATTTAAAACATAAAGAAATGAAGAGCTAGTTCAAACCTTGGGAAATAACCTAAGCATGCC'}\n",
      "{'TSeq_seqtype': StringElement('', attributes={'value': 'nucleotide'}), 'TSeq_orgname': 'Homo sapiens', 'TSeq_length': '468', 'TSeq_defline': 'Human sickle cell beta-globin mRNA, complete cds', 'TSeq_taxid': '9606', 'TSeq_accver': 'M25079.1', 'TSeq_sequence': 'ATGGTNCAYYTNACNCCNGTGGAGAAGTCYGCYGTNACNGCNCTNTGGGGYAAGGTNAAYGTGGATGAAGYYGGYGGYGAGGCCCTGGGCAGNCTGCTNGTGGTCTACCCTTGGACCCAGAGGTTCTTNGANTCNTTYGGGGATCTGNNNACNCCNGANGCAGTTATGGGCAACCCTAAGGTGAAGGCTCATGGCAAGAAAGTGCTCGGTGCCTTTAGTGATGGCCTGGCTCACCTGGACAACCTCAAGGGCACCTTTGCCACACTGAGTGAGCTGCACTGTGACAAGCTNCAYGTGGATCCTGAGAACTTCAGGCTNCTNGGCAACGTGYTNGTCTGYGTGCTGGCCCATCACTTTGGCAAAGAATTCACCCCACCAGTGCANGCNGCCTATCAGAAAGTGGTNGCTGGTGTNGCTAATGCCCTGGCCCACAAGTATCACTAAGCTNGCYTTYTTGYTGTCCAATTT'}\n",
      "{'TSeq_seqtype': StringElement('', attributes={'value': 'nucleotide'}), 'TSeq_orgname': 'Homo sapiens', 'TSeq_length': '88', 'TSeq_defline': 'Homo sapiens A-gamma globin (HBG1) gene, promoter region', 'TSeq_taxid': '9606', 'TSeq_accver': 'FJ766333.1', 'TSeq_sequence': 'CGGCTGACAAAAGAAGTCCTGGTATCTTCTATGGTGGGAGAGGAAAACTAGCTAAAGGGAAGAATAAATTAGAGAAAAAHTGGAATGA'}\n",
      "{'TSeq_seqtype': StringElement('', attributes={'value': 'nucleotide'}), 'TSeq_orgname': 'Homo sapiens', 'TSeq_sid': 'pat|JP|1986019500|1', 'TSeq_length': '50', 'TSeq_defline': 'Part of DNA encoding beta-globin gene', 'TSeq_taxid': '9606', 'TSeq_accver': 'E00658.1', 'TSeq_sequence': 'AACCTCAAACAGACACCATGGTGCACCTGACTCCTGAGGAGAAGTCTGCC'}\n",
      "{'TSeq_seqtype': StringElement('', attributes={'value': 'nucleotide'}), 'TSeq_orgname': 'Homo sapiens', 'TSeq_length': '2337', 'TSeq_defline': 'Human hemoglobin DNA with a deletion causing Indian delta-beta thalassemia', 'TSeq_taxid': '9606', 'TSeq_accver': 'M33706.1', 'TSeq_sequence': 'AAGCTTGGGTTTTGAGTTTTCATTATTTACCCAAAATTCATTCAGGAGCAGGTTGTTTAATTTCCATGTAATTGCATAGTTTTCAGCTATTCATTAGTCTTGAAATCTATTTTTATTCCTCTGTGGTCTGAGAGTGATTGATATGATTTTTTTGCATTTGCTGAGGATTGTTTTAGGTCCTCCCAAGGCTGAACCAGGAAGAAATCAATTTCCTGAAGAGATCCATGATGAGCTCTGAAAATGATTCAGTAATAAATAGCCTATCAAACAAAAAAAGCCCTGGACAATATGATTCACAACCAAATTCTATCAGATGCACAAAGAAGAGTTGGAAAAATTCCTACTGAAGCTACTCCAAAAAATTGAGGGGGAGGGATTCAACCTCAGCTCATTTTATGAGGCCAGCATCATCCTGATACCAAAACCTGATAGACACACAACAACAAAAAAAGAAAACTTCAGGCCAATATCCTTGAACATTGATGCAAAAATACTAGCAAGCCAAATCCAGCAACACATCACAAAGCTAATCCACCTCAATCAAGTAGGCTTTATCCCTGAGAAGCAAGATTGGTTCAGCATATACAAATTGATAAATGTGATTCATCATATATACAGCACTAAAAACAGAAACCACATGATCATTTCAATATGTGCAAAAAAAGATTTTGATAAAATTCAACTTCACTTCATATTAAAACCTCTCAACAAACTAGCTATTTAAGGACATGACCTCAAAATAATATGAGCCATCTATGACAAACCCACAGCCAACATCATACAGAATGGGCAAAACCTGGAAGCATTCTTCTTGAAAACTGGCACAAGACAAGGATGCCCTCTCTCACCACTGCTATTCAGTATAGTACTGGCAGTCCTGGCCAGAGCAATCAGGCAAGAGAAGGGAATAAAGGGCATCCAAATAGGAAGAGAGAAAGTCAAAGTATCCCTGTTTTCTGTATCTAGAAAACACCATAGTCAAGGCCCAAAAGCTCCTTCAGCTGATAACTTCAGCAAAGTTTCAGGATATAAAATCAATGTACAAAAATCACTAGCATTCCCATACATCAACAATAGCCAAGCCTAGAGCCAAATCAGGAAGTCAATCCCATTTACCGTTGCCACAAAAAGAATAAAATACCTAAGGATATATCTAACCAAGGAGTTGAAAGATCTCTACAATGAGATTTACAAAACACTGCTCAAAGAAATCAGAGCTGATAGAAACAAATGGAAAAACTTTCCATGCTCATGGATAAAAAGAATCAATATTGTTAAAATGTCCATACTGCCTAGAGCAATTTACAGTTTCAAAGCTATTCCTATCAAACTACCAATGACATTCTTCACAGAACTAGAAAAATACACTTTAAAGTTCATATGGAACAACAACAAAAAAAGTCCAAATAGCCTAGGAAATCCTAATACTCACAGGTGGGAATTGAAAAATGAGAACACTTGGACACAGGGTGGGGAACATCACACACCGGGGCCTGTCGTGGGGTGGTAGGAGAGNGGAGGGATAACATTAGGAGATATATCTAATGTAAATGACGAGTTAACGGGTGCAGCACACCAATATGGCACACGTATACATATGTAACAAACTGCACAGGTACCGTAGAACTTAGAGTACAAAAAAAAAAANGAGAAAAAGAAAAAAGCTGGAGATAACACATTGCCTAACTTCAAACCATACCACAGGGCTACAGTAACCAAAACAGTNTGGTACTGTTACAGAAAAGACACACAGACAAATGGAACAGAATAGAGAGCCCAGAAATAAGACCACATGCCTACAACCATCTGATCTTTGACAAAGCTGATAAAAACAAGCAATGAGGAAAAGACACCCTATTCAACAAGTCGTGTTGGGATAACTGACTAACCGTATGTAGAAGATTGAAACCAGACCCCGTTCTATATCATATACACAAATAAACTCAAGATGGATTAGAGACTTAAATGCAAAGCCCAAACTATAAAAATGCTTGAAAGCAACCTAGACAATACCATTCCGGACATAAGCAGGGGCAAAGATTTCATGACAAAGATGCCAAGAGTCATTGCAGCAAAAGCAAAAATTGACAAATAGGATCTAATTAAAATAAAGTTTCTGCACAGCAAAAGAAACTATCAACTGAGTAAACAACCTATAGAATGGGAGAAAATTTTTGCAAACTATGCATCCAACAAAGGCCTAATATTCAGAATCTATAAGGAACTTAAATGAATCTACAAGAACAAAACAAACAATGCCACAAAAAATGGGTAAAGGACATGAACAGACAGTATTCAAAAGAAGACATACATGTGGCCACCAAGCATATGAAAAAA'}\n",
      "{'TSeq_seqtype': StringElement('', attributes={'value': 'nucleotide'}), 'TSeq_orgname': 'Homo sapiens', 'TSeq_length': '1552', 'TSeq_defline': 'Human hemoglobin-related sequence across the breakpoint for Indian delta-beta thalassemia', 'TSeq_taxid': '9606', 'TSeq_accver': 'M37467.1', 'TSeq_sequence': 'TTTTCTCAGTCAGTTAACATTCCTTCAACTAGATTAGTTGTGACAAAATTTCAGGCCTTGCTCAACTCTAACCTCAGTCTCTCCATATATTTCTGAGAGTCTTCCTTCTTATTTGTTTATAAGAATTTAGTAAATGGCAATATTGAGAAGTAGAAAATTTTGGAGACTTGTTTTTCATGAACCAGAACAATCTCAAAGCAGCAATACTAAACAGGAGCCAAGCCTAGAATAAAGTTGAATTTCTGGAATCAACAAGCTAGGGGAAAGTCTCCCATTAAGTCAAATATTTGACAACTGGGAGGTCAAGTCAGAGGTGAAAAATGATTAAAGATAACAAGAGGTCTGAAAACAAAGTGACCAATTAAAATAAAAAGAAAGAGCCAAGCTGGGCACAGTGGCTTGCATCTGTAGTCCCAGTAACCCAGGAGGCTGAAGTGATAGGATCACTTGAGCCCAGGATTTCAGGGTTGCAGTGAGCAATAATGACACCACTGCTCTCTAGCCTTGGTGACTGAGATCCTGTCTCTGAGGAAAAACAAACAAACAAGCAAAAAACAAACAAACAAACACACAGATATTAAGAACATAGAAGTTTTGTTACGGTGATGATATTCTCCAACACAGGTCTGAACCCCTTGCAGTGCCTCGGGGCTGTTTCTCCAGTGGATTCTTGGGTTCTTCACATCTTCTCAACTTTGTGAAAAGATATTCATCCAAAGGTCTCACCTGTCTTATTCAGAGCTTGGATTTTGGACTAGCTTTTTCTATTTCTTGGGATTCTCTAGAGCCATATATTCAGATATAACACAGATATAACCAAAAGAAGCAAAGGAGGCATCACAGAAGGGGCTTTGTATTCTGGGGAGGGGGACATAGAGTTGAGAGAAATACAGGAATTTATAGGACTCTACTCAAAGAGCCCTCAAATAAAGTACGGCTAGTCTTCTTTGCCTAAGACAATGAGCAGTCCAGGAAGTTATCCATTTCTTTTAGATTTTCTAGTTTATGTACATAGAGATGTTCATAGTAGTTTTTGATGATTATTTGTATTTCTGTGGGGTGAGTGATAATATTCCCTTTTCATTTCTAACTGTGCTTATTTGGATCTTCTCTCTTGTCTTCTTTATTAGTCTAGCTAGTGATCTACCTTATTAATTTTTTCACAAAACCAGCTCTTGGACTCATTAATCTTTTGAATGGTATTTTGTGTTTTAATATCCTTCAGTTAGCTTTGATCTTGTTTATTTCTTGTCTTCTGCTAGATTTAGGGTTGGTTTGCTCTTGGTTCTCTGGTTCTTTTAGTTGTGACATTAGGTTGTTAATTTGAGGGCTTTAAGACTTTTTGATGTGGGCATTTAGTGTATAAATTTCTCTCTTAACACTGTCTAAGCTGTGTCCCAGAGATTCCGGTATATTGTATCTTTGTTCTCATTAGTTTCAAAGAACTATTTTATTTTTGCCTTAGTTTTCATTATTTACCCAAAATTCATTCAGGAGCAGGTTGTTTAATTTCCATGTAATTGCATAGTTTTCAGCTATTCATTAGTCTTGA'}\n"
     ]
    }
   ],
   "source": [
    "for r in records:\n",
    "    print(r)"
   ]
  },
  {
   "cell_type": "code",
   "execution_count": 17,
   "metadata": {},
   "outputs": [
    {
     "name": "stdout",
     "output_type": "stream",
     "text": [
      "dict_keys(['TSeq_seqtype', 'TSeq_orgname', 'TSeq_length', 'TSeq_defline', 'TSeq_taxid', 'TSeq_accver', 'TSeq_sequence'])\n",
      "dict_keys(['TSeq_seqtype', 'TSeq_orgname', 'TSeq_length', 'TSeq_defline', 'TSeq_taxid', 'TSeq_accver', 'TSeq_sequence'])\n",
      "dict_keys(['TSeq_seqtype', 'TSeq_orgname', 'TSeq_length', 'TSeq_defline', 'TSeq_taxid', 'TSeq_accver', 'TSeq_sequence'])\n",
      "dict_keys(['TSeq_seqtype', 'TSeq_orgname', 'TSeq_length', 'TSeq_defline', 'TSeq_taxid', 'TSeq_accver', 'TSeq_sequence'])\n",
      "dict_keys(['TSeq_seqtype', 'TSeq_orgname', 'TSeq_sid', 'TSeq_length', 'TSeq_defline', 'TSeq_taxid', 'TSeq_accver', 'TSeq_sequence'])\n",
      "dict_keys(['TSeq_seqtype', 'TSeq_orgname', 'TSeq_length', 'TSeq_defline', 'TSeq_taxid', 'TSeq_accver', 'TSeq_sequence'])\n",
      "dict_keys(['TSeq_seqtype', 'TSeq_orgname', 'TSeq_length', 'TSeq_defline', 'TSeq_taxid', 'TSeq_accver', 'TSeq_sequence'])\n"
     ]
    }
   ],
   "source": [
    "for r in records:\n",
    "    \n",
    "    print(r.keys())\n",
    "    "
   ]
  },
  {
   "cell_type": "code",
   "execution_count": 20,
   "metadata": {},
   "outputs": [
    {
     "name": "stdout",
     "output_type": "stream",
     "text": [
      "Homo sapiens A-gamma globin (HBG1) gene, exon 1 and partial cds\n",
      "Homo sapiens voucher ATGLAB 2018103 hemoglobin beta subunit (HBB) gene, exon 3 and partial cds\n",
      "Human sickle cell beta-globin mRNA, complete cds\n",
      "Homo sapiens A-gamma globin (HBG1) gene, promoter region\n",
      "Part of DNA encoding beta-globin gene\n",
      "Human hemoglobin DNA with a deletion causing Indian delta-beta thalassemia\n",
      "Human hemoglobin-related sequence across the breakpoint for Indian delta-beta thalassemia\n"
     ]
    }
   ],
   "source": [
    "for r in records:\n",
    "    \n",
    "    print(r['TSeq_defline'])"
   ]
  },
  {
   "cell_type": "code",
   "execution_count": 26,
   "metadata": {},
   "outputs": [
    {
     "name": "stdout",
     "output_type": "stream",
     "text": [
      "Homo sapiens A-gamma globin (HBG1) gene, exon 1 and partial cds\n",
      "Homo sapiens voucher ATGLAB 2018103 hemoglobin beta subunit (HBB) gene, exon 3 and partial cds\n",
      "Human sickle cell beta-globin mRNA, complete cds\n",
      "Homo sapiens A-gamma globin (HBG1) gene, promoter region\n",
      "Part of DNA encoding beta-globin gene\n",
      "Human hemoglobin DNA with a deletion causing Indian delta-beta thalassemia\n",
      "Human hemoglobin-related sequence across the breakpoint for Indian delta-beta thalassemia\n"
     ]
    }
   ],
   "source": [
    "for r in records:\n",
    "   \n",
    "    print(r['TSeq_defline'])\n",
    "  "
   ]
  },
  {
   "cell_type": "code",
   "execution_count": 23,
   "metadata": {},
   "outputs": [
    {
     "name": "stdout",
     "output_type": "stream",
     "text": [
      "1868032479\n",
      "1515564438\n",
      "179408\n",
      "224959855\n",
      "2168937\n",
      "183859\n",
      "183844\n"
     ]
    }
   ],
   "source": [
    "for i in identifiers:\n",
    "    print(i)"
   ]
  },
  {
   "cell_type": "code",
   "execution_count": 38,
   "metadata": {},
   "outputs": [
    {
     "name": "stdout",
     "output_type": "stream",
     "text": [
      "1868032479: Homo sapiens A-gamma globin (HBG1) gene, exon 1 and partial cds\n",
      "1515564438: Homo sapiens voucher ATGLAB 2018103 hemoglobin beta subunit (HBB) gene, exon 3 and partial cds\n",
      "179408: Human sickle cell beta-globin mRNA, complete cds\n",
      "224959855: Homo sapiens A-gamma globin (HBG1) gene, promoter region\n",
      "2168937: Part of DNA encoding beta-globin gene\n",
      "183859: Human hemoglobin DNA with a deletion causing Indian delta-beta thalassemia\n",
      "183844: Human hemoglobin-related sequence across the breakpoint for Indian delta-beta thalassemia\n"
     ]
    }
   ],
   "source": [
    "for (i,r) in zip(identifiers,records):\n",
    "    print(\"{}: {}\".format(i,r['TSeq_defline']))\n",
    "   "
   ]
  },
  {
   "cell_type": "markdown",
   "metadata": {},
   "source": [
    "1.3 Retrieve a single GenBank entry\n",
    "\n",
    "In the output of task 1.2, locate the cDNA of the sickle cell globin manually. Copy the identifier. Use the identifier to download the full GenBank entry only for that sequence with efetch. Print the entry.\n",
    "\n",
    "The parameter rettype should be ‘gb’, retmodeshould be 'text'."
   ]
  },
  {
   "cell_type": "code",
   "execution_count": 42,
   "metadata": {},
   "outputs": [],
   "source": [
    "handle = Entrez.efetch(db=\"nucleotide\", id=179408, retmax=\"20\", \n",
    "         rettype=\"gb\", retmode=\"text\")\n",
    "text = handle.read()"
   ]
  },
  {
   "cell_type": "code",
   "execution_count": 43,
   "metadata": {},
   "outputs": [
    {
     "name": "stdout",
     "output_type": "stream",
     "text": [
      "LOCUS       HUMBETGLA                468 bp    mRNA    linear   PRI 27-APR-1993\n",
      "DEFINITION  Human sickle cell beta-globin mRNA, complete cds.\n",
      "ACCESSION   M25079\n",
      "VERSION     M25079.1\n",
      "KEYWORDS    .\n",
      "SOURCE      Homo sapiens (human)\n",
      "  ORGANISM  Homo sapiens\n",
      "            Eukaryota; Metazoa; Chordata; Craniata; Vertebrata; Euteleostomi;\n",
      "            Mammalia; Eutheria; Euarchontoglires; Primates; Haplorrhini;\n",
      "            Catarrhini; Hominidae; Homo.\n",
      "REFERENCE   1  (bases 1 to 468)\n",
      "  AUTHORS   Marotta,C.A., Forget,B.G., Cohen-Solal,M. and Weissman,S.M.\n",
      "  TITLE     Nucleotide sequence analysis of coding and noncoding regions of\n",
      "            human beta-globin mRNA\n",
      "  JOURNAL   Prog Nucleic Acid Res Mol Biol 19, 165-175 (1976)\n",
      "   PUBMED   1019344\n",
      "COMMENT     Original source text: Human sickle cell, cDNA to mRNA.\n",
      "FEATURES             Location/Qualifiers\n",
      "     source          1..468\n",
      "                     /organism=\"Homo sapiens\"\n",
      "                     /mol_type=\"mRNA\"\n",
      "                     /db_xref=\"taxon:9606\"\n",
      "                     /cell_type=\"sickle cell\"\n",
      "     CDS             1..444\n",
      "                     /experiment=\"experimental evidence, no additional details\n",
      "                     recorded\"\n",
      "                     /codon_start=1\n",
      "                     /product=\"beta-globin\"\n",
      "                     /protein_id=\"AAA35597.1\"\n",
      "                     /translation=\"MVHXTPVEKSAVTALWGKVNVDEXGGEALGXLLVVYPWTQRFXX\n",
      "                     SFGDLXTPXAVMGNPKVKAHGKKVLGAFSDGLAHLDNLKGTFATLSELHCDKLHVDPE\n",
      "                     NFRLLGNVXVCVLAHHFGKEFTPPVXAAYQKVVAGVANALAHKYH\"\n",
      "ORIGIN      \n",
      "        1 atggtncayy tnacnccngt ggagaagtcy gcygtnacng cnctntgggg yaaggtnaay\n",
      "       61 gtggatgaag yyggyggyga ggccctgggc agnctgctng tggtctaccc ttggacccag\n",
      "      121 aggttcttng antcnttygg ggatctgnnn acnccngang cagttatggg caaccctaag\n",
      "      181 gtgaaggctc atggcaagaa agtgctcggt gcctttagtg atggcctggc tcacctggac\n",
      "      241 aacctcaagg gcacctttgc cacactgagt gagctgcact gtgacaagct ncaygtggat\n",
      "      301 cctgagaact tcaggctnct nggcaacgtg ytngtctgyg tgctggccca tcactttggc\n",
      "      361 aaagaattca ccccaccagt gcangcngcc tatcagaaag tggtngctgg tgtngctaat\n",
      "      421 gccctggccc acaagtatca ctaagctngc yttyttgytg tccaattt\n",
      "//\n",
      "\n",
      "\n"
     ]
    }
   ],
   "source": [
    "print(text)"
   ]
  },
  {
   "cell_type": "markdown",
   "metadata": {},
   "source": [
    "1.4 Write an output file\n",
    "\n",
    "Save the GenBank entry from task 1.3 to a file ‘sickle.gb’."
   ]
  },
  {
   "cell_type": "code",
   "execution_count": 44,
   "metadata": {},
   "outputs": [],
   "source": [
    "with open(\"sickle.gb\",\"w+\") as file:\n",
    "    file.write(text)"
   ]
  },
  {
   "cell_type": "markdown",
   "metadata": {},
   "source": [
    "1.5 Retrieve and write multiple GenBank entries\n",
    "\n",
    "Combine esearch and efetch to retrieve entries for the gene sequences of the human globin family. Find appropriate keywords to limit the search to beta-globin and only complete coding sequences. Write the outcome to a file.\n",
    "Hint:\n",
    "\n",
    "It is often more convenient to design the query in a browser window before moving to Python."
   ]
  },
  {
   "cell_type": "code",
   "execution_count": 82,
   "metadata": {},
   "outputs": [],
   "source": [
    "handle = Entrez.esearch(db=\"nucleotide\", term=\"(Homo sapiens) AND (beta-globin) AND (complete cds) NOT (chromosome)\", retmax=200)\n",
    "records = Entrez.read(handle)\n",
    "identifiers = records['IdList']\n",
    "#print(identifiers)\n",
    "handle = Entrez.efetch(db=\"nucleotide\", id=identifiers, retmax=\"200\", \n",
    "         rettype=\"fasta\", retmode=\"xml\")\n",
    "records = Entrez.read(handle)\n",
    "handle = Entrez.efetch(db=\"nucleotide\", id=identifiers, retmax=\"200\", \n",
    "         rettype=\"gb\", retmode=\"text\")\n",
    "text = handle.read()\n",
    "with open(\"HEMOS.gb\",\"w+\") as file:\n",
    "    file.write(text)"
   ]
  },
  {
   "cell_type": "code",
   "execution_count": 90,
   "metadata": {},
   "outputs": [
    {
     "name": "stdout",
     "output_type": "stream",
     "text": [
      "114\n"
     ]
    }
   ],
   "source": [
    "print(len(identifiers))"
   ]
  },
  {
   "cell_type": "markdown",
   "metadata": {},
   "source": [
    "1.6 Optional Exercises\n",
    "\n",
    "    Save the retrieved entries to a single FASTA file.\n",
    "    Save each of the beta-globin sequences to a separate GenBank file.\n",
    "    Use Entrez to search 100 recent references related to malaria and sickle cell anemia on PubMed.\n"
   ]
  },
  {
   "cell_type": "markdown",
   "metadata": {},
   "source": [
    "2.Bio.SeqIO\n",
    "\n",
    "Reading, writing, and filtering sequence files"
   ]
  },
  {
   "cell_type": "markdown",
   "metadata": {},
   "source": [
    "2.1 Read a GenBank file\n",
    "\n",
    "Read the ‘sickle.gb’ file from task 1.4 using the SeqIO.parse() function:\n",
    "\n",
    "from Bio import SeqIO\n",
    "\n",
    "records = SeqIO.parse(filename, format)\n",
    "\n",
    "The first parameter of parse() is the filename, the format is ‘genbank’. Print the records object.\n",
    "\n",
    "To see the actual entries, use the next() function on records or process the records in a for loop:\n",
    "\n",
    "rec = next(records)\n"
   ]
  },
  {
   "cell_type": "code",
   "execution_count": 75,
   "metadata": {},
   "outputs": [
    {
     "name": "stdout",
     "output_type": "stream",
     "text": [
      "<generator object InsdcScanner.parse_records at 0x7fd181b93048>\n"
     ]
    }
   ],
   "source": [
    "from Bio import SeqIO\n",
    "records = SeqIO.parse(\"sickle.gb\", \"genbank\")\n",
    "print(records)"
   ]
  },
  {
   "cell_type": "code",
   "execution_count": 76,
   "metadata": {},
   "outputs": [],
   "source": [
    "rec = next(records)"
   ]
  },
  {
   "cell_type": "code",
   "execution_count": 77,
   "metadata": {},
   "outputs": [
    {
     "name": "stdout",
     "output_type": "stream",
     "text": [
      "ID: M25079.1\n",
      "Name: HUMBETGLA\n",
      "Description: Human sickle cell beta-globin mRNA, complete cds\n",
      "Number of features: 2\n",
      "/organism=Homo sapiens\n",
      "/accessions=['M25079']\n",
      "/data_file_division=PRI\n",
      "/date=27-APR-1993\n",
      "/comment=Original source text: Human sickle cell, cDNA to mRNA.\n",
      "/taxonomy=['Eukaryota', 'Metazoa', 'Chordata', 'Craniata', 'Vertebrata', 'Euteleostomi', 'Mammalia', 'Eutheria', 'Euarchontoglires', 'Primates', 'Haplorrhini', 'Catarrhini', 'Hominidae', 'Homo']\n",
      "/sequence_version=1\n",
      "/molecule_type=mRNA\n",
      "/topology=linear\n",
      "/source=Homo sapiens (human)\n",
      "/references=[Reference(title='Nucleotide sequence analysis of coding and noncoding regions of human beta-globin mRNA', ...)]\n",
      "/keywords=['']\n",
      "Seq('ATGGTNCAYYTNACNCCNGTGGAGAAGTCYGCYGTNACNGCNCTNTGGGGYAAG...TTT', IUPACAmbiguousDNA())\n"
     ]
    }
   ],
   "source": [
    "print(rec)"
   ]
  },
  {
   "cell_type": "markdown",
   "metadata": {},
   "source": [
    "2.2 Print information for one sequence\n",
    "\n",
    "Use the dir() function on a single record object to find out what attributes it has.\n",
    "\n",
    "Print the id, name and description of the sickle cell globin entry."
   ]
  },
  {
   "cell_type": "code",
   "execution_count": 78,
   "metadata": {},
   "outputs": [
    {
     "data": {
      "text/plain": [
       "['__add__',\n",
       " '__bool__',\n",
       " '__class__',\n",
       " '__contains__',\n",
       " '__delattr__',\n",
       " '__dict__',\n",
       " '__dir__',\n",
       " '__doc__',\n",
       " '__eq__',\n",
       " '__format__',\n",
       " '__ge__',\n",
       " '__getattribute__',\n",
       " '__getitem__',\n",
       " '__gt__',\n",
       " '__hash__',\n",
       " '__init__',\n",
       " '__iter__',\n",
       " '__le__',\n",
       " '__le___',\n",
       " '__len__',\n",
       " '__lt__',\n",
       " '__module__',\n",
       " '__ne__',\n",
       " '__new__',\n",
       " '__nonzero__',\n",
       " '__radd__',\n",
       " '__reduce__',\n",
       " '__reduce_ex__',\n",
       " '__repr__',\n",
       " '__setattr__',\n",
       " '__sizeof__',\n",
       " '__str__',\n",
       " '__subclasshook__',\n",
       " '__weakref__',\n",
       " '_per_letter_annotations',\n",
       " '_seq',\n",
       " '_set_per_letter_annotations',\n",
       " '_set_seq',\n",
       " 'annotations',\n",
       " 'dbxrefs',\n",
       " 'description',\n",
       " 'features',\n",
       " 'format',\n",
       " 'id',\n",
       " 'letter_annotations',\n",
       " 'lower',\n",
       " 'name',\n",
       " 'reverse_complement',\n",
       " 'seq',\n",
       " 'translate',\n",
       " 'upper']"
      ]
     },
     "execution_count": 78,
     "metadata": {},
     "output_type": "execute_result"
    }
   ],
   "source": [
    "dir(rec)"
   ]
  },
  {
   "cell_type": "code",
   "execution_count": 79,
   "metadata": {},
   "outputs": [
    {
     "name": "stdout",
     "output_type": "stream",
     "text": [
      "M25079.1\tHUMBETGLA\tHuman sickle cell beta-globin mRNA, complete cds\n"
     ]
    }
   ],
   "source": [
    "print(\"{}\\t{}\\t{}\".format(rec.id,rec.name,rec.description))"
   ]
  },
  {
   "cell_type": "markdown",
   "metadata": {},
   "source": [
    "2.3 Write a FASTA file\n",
    "\n",
    "Save the GenBank entry from task 2.1 to a FASTA file using the SeqIO.write() function:\n",
    "\n",
    "SeqIO.write(records, file, format)\n",
    "\n",
    "The first parameter of write() is a list of sequence records, the second a file open for writing, and the third should be ‘fasta’."
   ]
  },
  {
   "cell_type": "code",
   "execution_count": 81,
   "metadata": {},
   "outputs": [],
   "source": [
    "\n",
    "with open(\"hemoglobin.fasta\", \"w\") as output_handle:\n",
    "    SeqIO.write(rec, output_handle, \"fasta\")"
   ]
  },
  {
   "cell_type": "markdown",
   "metadata": {},
   "source": [
    "2.4 Print information for multiple sequences\n",
    "\n",
    "Print the id, name, and description of all human beta-globins.\n",
    "Hint:\n",
    "\n",
    "This is a great occasion to exercise string formatting, e.g. to obtain a tabular output:\n",
    "\n",
    "print(\"{:10s} {:7d}\".format('Ada', 33))\n"
   ]
  },
  {
   "cell_type": "code",
   "execution_count": 101,
   "metadata": {},
   "outputs": [
    {
     "name": "stdout",
     "output_type": "stream",
     "text": [
      "MG657341.1\tMG657341\tHomo sapiens hemoglobin subunit beta (HBB) gene, complete cds\n",
      "MG675219.1\tMG675219\tHomo sapiens hemoglobin subunit beta (HBB) gene, complete cds\n",
      "MF462285.1\tMF462285\tSynthetic construct clone NFAT-CBR red-shifted luciferase (CBR) gene, complete cds\n",
      "EU760950.1\tEU760950\tHomo sapiens isolate TAL45 truncated beta globin gene, complete cds\n",
      "EU760937.1\tEU760937\tHomo sapiens isolate TAL29 truncated beta globin gene, complete cds\n",
      "EU760934.1\tEU760934\tHomo sapiens isolate TAL26 truncated beta globin gene, complete cds\n",
      "AH001475.2\tAH001475\tHomo sapiens beta-globin gene, complete cds\n",
      "AH002981.2\tAH002981\tHomo sapiens S100 protein beta subunit (S100-beta) gene, complete cds\n",
      "AH010109.2\tAH010109\tHomo sapiens odorant receptor HOR3'beta1, odorant receptor HOR3'beta2, odorant receptor HOR3'beta3, odorant receptor HOR3'beta4, and odorant receptor HOR3'beta5 genes, complete cds\n",
      "KT345944.1\tKT345944\tCloning vector pAAV-hSyn-CRMP2-hSyn-mCherry, complete sequence\n",
      "KU350152.1\tKU350152\tHomo sapiens beta-globin (HBB) gene, complete cds\n",
      "KR028331.1\tKR028331\tHomo sapiens beta-globin (HBB) gene, complete cds\n",
      "JX877554.1\tJX877554\tHomo sapiens krueppel-like factor 1 (KLF1) gene, complete cds\n",
      "M11428.1\tHUMHBB3E\tHuman beta-globin mRNA, 3' end\n",
      "GU253313.1\tGU253313\tLentivirus shuttle vector pLV.pA+.GS.Luc, complete sequence\n",
      "GU253312.1\tGU253312\tLentivirus shuttle vector pLV.pA+.GS.DsRed, complete sequence\n",
      "L26478.1\tHUMBETGLOR\tHuman haplotype D3 beta-globin gene, complete cds\n",
      "L26477.1\tHUMBETGLOP\tHuman haplotype D2 beta-globin gene, complete cds\n",
      "L26476.1\tHUMBETGLOO\tHuman haplotype D1 beta-globin gene, complete cds\n",
      "L26475.1\tHUMBETGLON\tHuman haplotype C2 beta-globin gene, complete cds\n",
      "L26474.1\tHUMBETGLOM\tHuman haplotype C3 beta-globin gene, complete cds\n",
      "L26473.1\tHUMBETGLOL\tHuman haplotype C1 beta-globin gene, complete cds\n",
      "L26472.1\tHUMBETGLOK\tHuman haplotype B6 beta-globin gene, complete cds\n",
      "L26471.1\tHUMBETGLOJ\tHuman haplotype B5 beta-globin gene, complete cds\n",
      "L26470.1\tHUMBETGLOI\tHuman haplotype B4 beta-globin gene, complete cds\n",
      "L26469.1\tHUMBETGLOH\tHuman haplotype B3 beta-globin gene, complete cds\n",
      "L26468.1\tHUMBETGLOG\tHuman haplotype B2 beta-globin gene, complete cds\n",
      "L26467.1\tHUMBETGLOF\tHuman haplotype B1 beta-globin gene, complete cds\n",
      "L26466.1\tHUMBETGLOE\tHuman haplotype A4 beta-globin gene, complete cds\n",
      "L26465.1\tHUMBETGLOD\tHuman haplotype A3 beta-globin gene, complete cds\n",
      "L26464.1\tHUMBETGLOC\tHuman haplotype A2 beta-globin gene, complete cds\n",
      "L26463.1\tHUMBETGLOB\tHuman haplotype A1 beta-globin gene, complete cds\n",
      "L26462.1\tHUMBETGLOA\tHuman haplotype C4 beta-globin gene, complete cds\n",
      "M25079.1\tHUMBETGLA\tHuman sickle cell beta-globin mRNA, complete cds\n",
      "AF083883.1\tAF083883\tHomo sapiens mutant beta-globin (HBB) gene, complete cds\n",
      "DQ126325.1\tDQ126325\tHomo sapiens isolate HbC-Dgn83 beta globin (HBB) gene, complete cds\n",
      "DQ126324.1\tDQ126324\tHomo sapiens isolate HbC-Dgn99 beta globin (HBB) gene, complete cds\n",
      "DQ126323.1\tDQ126323\tHomo sapiens isolate HbC-Dgn66 beta globin (HBB) gene, complete cds\n",
      "DQ126322.1\tDQ126322\tHomo sapiens isolate HbC-S782 beta globin (HBB) gene, complete cds\n",
      "DQ126321.1\tDQ126321\tHomo sapiens isolate HbC-Ghn40 beta globin (HBB) gene, complete cds\n",
      "DQ126320.1\tDQ126320\tHomo sapiens isolate HbC-Ghn133 beta globin (HBB) gene, complete cds\n",
      "DQ126319.1\tDQ126319\tHomo sapiens isolate HbC-Ghn117 beta globin (HBB) gene, complete cds\n",
      "DQ126318.1\tDQ126318\tHomo sapiens isolate HbC-Ghn195 beta globin (HBB) gene, complete cds\n",
      "DQ126317.1\tDQ126317\tHomo sapiens isolate HbC-Nov24 beta globin (HBB) gene, complete cds\n",
      "DQ126316.1\tDQ126316\tHomo sapiens isolate HbC-Ivc16 beta globin (HBB) gene, complete cds\n",
      "DQ126315.1\tDQ126315\tHomo sapiens isolate HbC-Ghn154b beta globin (HBB) gene, complete cds\n",
      "DQ126314.1\tDQ126314\tHomo sapiens isolate HbC-Ghn154a beta globin (HBB) gene, complete cds\n",
      "DQ126313.1\tDQ126313\tHomo sapiens isolate HbC-Ghn023 beta globin (HBB) gene, complete cds\n",
      "DQ126312.1\tDQ126312\tHomo sapiens isolate HbC-Ghn017 beta globin (HBB) gene, complete cds\n",
      "DQ126311.1\tDQ126311\tHomo sapiens isolate HbC-Ghn009 beta globin (HBB) gene, complete cds\n",
      "DQ126310.1\tDQ126310\tHomo sapiens isolate HbC-Dgn58 beta globin (HBB) gene, complete cds\n",
      "DQ126309.1\tDQ126309\tHomo sapiens isolate HbC-Dgn52 beta globin (HBB) gene, complete cds\n",
      "DQ126308.1\tDQ126308\tHomo sapiens isolate HbC-Dgn37 beta globin (HBB) gene, complete cds\n",
      "DQ126307.1\tDQ126307\tHomo sapiens isolate HbC-Dgn31b beta globin (HBB) gene, complete cds\n",
      "DQ126306.1\tDQ126306\tHomo sapiens isolate HbC-Dgn31a beta globin (HBB) gene, complete cds\n",
      "DQ126305.1\tDQ126305\tHomo sapiens isolate HbC-Dgn06 beta globin (HBB) gene, complete cds\n",
      "DQ126304.1\tDQ126304\tHomo sapiens isolate HbA-Dgn99 beta globin (HBB) gene, complete cds\n",
      "DQ126303.1\tDQ126303\tHomo sapiens isolate HbA-Ivc18 beta globin (HBB) gene, complete cds\n",
      "DQ126302.1\tDQ126302\tHomo sapiens isolate HbA-Dgn58 beta globin (HBB) gene, complete cds\n",
      "DQ126301.1\tDQ126301\tHomo sapiens isolate HbA-G37 beta globin (HBB) gene, complete cds\n",
      "DQ126300.1\tDQ126300\tHomo sapiens isolate HbA-Dgn66 beta globin (HBB) gene, complete cds\n",
      "DQ126299.1\tDQ126299\tHomo sapiens isolate HbA-Cmn087 beta globin (HBB) gene, complete cds\n",
      "DQ126298.1\tDQ126298\tHomo sapiens isolate HbA-Ghn117 beta globin (HBB) gene, complete cds\n",
      "DQ126297.1\tDQ126297\tHomo sapiens isolate HbA-Ivc04 beta globin (HBB) gene, complete cds\n",
      "DQ126296.1\tDQ126296\tHomo sapiens isolate HbA-Ivc16 beta globin (HBB) gene, complete cds\n",
      "DQ126295.1\tDQ126295\tHomo sapiens isolate HbA-G08 beta globin (HBB) gene, complete cds\n",
      "DQ126294.1\tDQ126294\tHomo sapiens isolate HbA-Dgn52 beta globin (HBB) gene, complete cds\n",
      "DQ126293.1\tDQ126293\tHomo sapiens isolate HbA-Sen10 beta globin (HBB) gene, complete cds\n",
      "DQ126292.1\tDQ126292\tHomo sapiens isolate HbA-G25 beta globin (HBB) gene, complete cds\n",
      "DQ126291.1\tDQ126291\tHomo sapiens isolate HbA-Ivc11 beta globin (HBB) gene, complete cds\n",
      "DQ126290.1\tDQ126290\tHomo sapiens isolate HbA-Ghn009 beta globin (HBB) gene, complete cds\n",
      "DQ126289.1\tDQ126289\tHomo sapiens isolate HbA-Ghn017 beta globin (HBB) gene, complete cds\n",
      "DQ126288.1\tDQ126288\tHomo sapiens isolate HbA-Nov24 beta globin (HBB) gene, complete cds\n",
      "DQ126287.1\tDQ126287\tHomo sapiens isolate HbA-JK1033 beta globin (HBB) gene, complete cds\n",
      "DQ126286.1\tDQ126286\tHomo sapiens isolate HbA-Cmn097 beta globin (HBB) gene, complete cds\n",
      "DQ126285.1\tDQ126285\tHomo sapiens isolate HbA-Dgn67 beta globin (HBB) gene, complete cds\n",
      "DQ126284.1\tDQ126284\tHomo sapiens isolate HbA-Dgn06 beta globin (HBB) gene, complete cds\n",
      "DQ126283.1\tDQ126283\tHomo sapiens isolate HbA-Sen50 beta globin (HBB) gene, complete cds\n",
      "DQ126282.1\tDQ126282\tHomo sapiens isolate HbA-S782 beta globin (HBB) gene, complete cds\n",
      "DQ126281.1\tDQ126281\tHomo sapiens isolate HbA-Gna27 beta globin (HBB) gene, complete cds\n",
      "DQ126280.1\tDQ126280\tHomo sapiens isolate HbA-Cmr15 beta globin (HBB) gene, complete cds\n",
      "DQ126279.1\tDQ126279\tHomo sapiens isolate HbA-Dgn83 beta globin (HBB) gene, complete cds\n",
      "DQ126278.1\tDQ126278\tHomo sapiens isolate HbA-Sen31 beta globin (HBB) gene, complete cds\n",
      "DQ126277.1\tDQ126277\tHomo sapiens isolate HbA-Ghn133 beta globin (HBB) gene, complete cds\n",
      "DQ126276.1\tDQ126276\tHomo sapiens isolate HbA-Ghn195 beta globin (HBB) gene, complete cds\n",
      "DQ126275.1\tDQ126275\tHomo sapiens isolate HbA-Ghn40 beta globin (HBB) gene, complete cds\n",
      "DQ126274.1\tDQ126274\tHomo sapiens isolate HbA-Ghn023 beta globin (HBB) gene, complete cds\n",
      "DQ126273.1\tDQ126273\tHomo sapiens isolate HbA-Dgn37 beta globin (HBB) gene, complete cds\n",
      "DQ126272.1\tDQ126272\tHomo sapiens isolate HbA-Sen42 beta globin (HBB) gene, complete cds\n",
      "DQ126271.1\tDQ126271\tHomo sapiens isolate HbA-Cmr13 beta globin (HBB) gene, complete cds\n",
      "DQ126270.1\tDQ126270\tHomo sapiens isolate HbA-Ivc05 beta globin (HBB) gene, complete cds\n",
      "AF083884.1\tAF083884\tHomo sapiens mutant beta-globin (HBB) gene, complete cds\n",
      "AF059180.1\tAF059180\tHomo sapiens mutant beta-globin (HBB) gene, complete cds\n",
      "AF339417.1\tAF339417\tHomo sapiens haplotype T12 delta-globin (HBD) gene, complete cds\n",
      "AF339416.1\tAF339416\tHomo sapiens haplotype T11 delta-globin (HBD) gene, complete cds\n",
      "AF339415.1\tAF339415\tHomo sapiens haplotype T10 delta-globin (HBD) gene, complete cds\n",
      "AF339414.1\tAF339414\tHomo sapiens haplotype T9 delta-globin (HBD) gene, complete cds\n",
      "AF339413.1\tAF339413\tHomo sapiens haplotype T8 delta-globin (HBD) gene, complete cds\n",
      "AF339412.1\tAF339412\tHomo sapiens haplotype T7 delta-globin (HBD) gene, complete cds\n",
      "AF339411.1\tAF339411\tHomo sapiens haplotype T6 delta-globin (HBD) gene, complete cds\n",
      "AF339410.1\tAF339410\tHomo sapiens haplotype T5 delta-globin (HBD) gene, complete cds\n",
      "AF339409.1\tAF339409\tHomo sapiens haplotype T4 delta-globin (HBD) gene, complete cds\n",
      "AF339408.1\tAF339408\tHomo sapiens haplotype T3 delta-globin (HBD) gene, complete cds\n",
      "AF339407.1\tAF339407\tHomo sapiens haplotype T2 delta-globin (HBD) gene, complete cds\n",
      "AF339406.1\tAF339406\tHomo sapiens haplotype T1 delta-globin (HBD) gene, complete cds\n",
      "AF339405.1\tAF339405\tHomo sapiens haplotype R5 delta-globin (HBD) gene, complete cds\n",
      "AF339404.1\tAF339404\tHomo sapiens haplotype R4 delta-globin (HBD) gene, complete cds\n",
      "AF339403.1\tAF339403\tHomo sapiens haplotype R3 delta-globin (HBD) gene, complete cds\n",
      "AF339402.1\tAF339402\tHomo sapiens haplotype R2 delta-globin (HBD) gene, complete cds\n",
      "AF339401.1\tAF339401\tHomo sapiens haplotype R1 delta-globin (HBD) gene, complete cds\n",
      "EU048698.1\tEU048698\tShuttle vector phcAd.DYS-FL, complete sequence\n",
      "AY260740.1\tAY260740\tHomo sapiens beta globin chain gene, complete cds\n",
      "V00497.1\tV00497\tHuman messenger RNA for beta-globin\n",
      "EF203084.1\tEF203084\tCloning vector pAAV-EF1alpha-hFAH.AOS2, complete sequence\n"
     ]
    }
   ],
   "source": [
    "records = SeqIO.parse(\"HEMOS.gb\", \"genbank\")\n",
    "#print(records)\n",
    "for i in records:\n",
    "    print(\"{}\\t{}\\t{}\".format(i.id,i.name,i.description))\n",
    "    #rek = next(records)\n",
    "    #print(\"{}\\t{}\\t{}\".format(rek.id,rek.name,rek.description))"
   ]
  },
  {
   "cell_type": "markdown",
   "metadata": {},
   "source": [
    "2.5 Filtering sequence entries\n",
    "\n",
    "Print the same information as in task 2.4, but do not show non-globin entries. If the description contains either ‘vector’ or ‘isolate’, don’t print anything."
   ]
  },
  {
   "cell_type": "code",
   "execution_count": 107,
   "metadata": {},
   "outputs": [
    {
     "name": "stdout",
     "output_type": "stream",
     "text": [
      "MG657341.1\tMG657341\tHomo sapiens hemoglobin subunit beta (HBB) gene, complete cds\n",
      "MG675219.1\tMG675219\tHomo sapiens hemoglobin subunit beta (HBB) gene, complete cds\n",
      "AH001475.2\tAH001475\tHomo sapiens beta-globin gene, complete cds\n",
      "KU350152.1\tKU350152\tHomo sapiens beta-globin (HBB) gene, complete cds\n",
      "KR028331.1\tKR028331\tHomo sapiens beta-globin (HBB) gene, complete cds\n",
      "M11428.1\tHUMHBB3E\tHuman beta-globin mRNA, 3' end\n",
      "L26478.1\tHUMBETGLOR\tHuman haplotype D3 beta-globin gene, complete cds\n",
      "L26477.1\tHUMBETGLOP\tHuman haplotype D2 beta-globin gene, complete cds\n",
      "L26476.1\tHUMBETGLOO\tHuman haplotype D1 beta-globin gene, complete cds\n",
      "L26475.1\tHUMBETGLON\tHuman haplotype C2 beta-globin gene, complete cds\n",
      "L26474.1\tHUMBETGLOM\tHuman haplotype C3 beta-globin gene, complete cds\n",
      "L26473.1\tHUMBETGLOL\tHuman haplotype C1 beta-globin gene, complete cds\n",
      "L26472.1\tHUMBETGLOK\tHuman haplotype B6 beta-globin gene, complete cds\n",
      "L26471.1\tHUMBETGLOJ\tHuman haplotype B5 beta-globin gene, complete cds\n",
      "L26470.1\tHUMBETGLOI\tHuman haplotype B4 beta-globin gene, complete cds\n",
      "L26469.1\tHUMBETGLOH\tHuman haplotype B3 beta-globin gene, complete cds\n",
      "L26468.1\tHUMBETGLOG\tHuman haplotype B2 beta-globin gene, complete cds\n",
      "L26467.1\tHUMBETGLOF\tHuman haplotype B1 beta-globin gene, complete cds\n",
      "L26466.1\tHUMBETGLOE\tHuman haplotype A4 beta-globin gene, complete cds\n",
      "L26465.1\tHUMBETGLOD\tHuman haplotype A3 beta-globin gene, complete cds\n",
      "L26464.1\tHUMBETGLOC\tHuman haplotype A2 beta-globin gene, complete cds\n",
      "L26463.1\tHUMBETGLOB\tHuman haplotype A1 beta-globin gene, complete cds\n",
      "L26462.1\tHUMBETGLOA\tHuman haplotype C4 beta-globin gene, complete cds\n",
      "M25079.1\tHUMBETGLA\tHuman sickle cell beta-globin mRNA, complete cds\n",
      "AF083883.1\tAF083883\tHomo sapiens mutant beta-globin (HBB) gene, complete cds\n",
      "AF083884.1\tAF083884\tHomo sapiens mutant beta-globin (HBB) gene, complete cds\n",
      "AF059180.1\tAF059180\tHomo sapiens mutant beta-globin (HBB) gene, complete cds\n",
      "AF339417.1\tAF339417\tHomo sapiens haplotype T12 delta-globin (HBD) gene, complete cds\n",
      "AF339416.1\tAF339416\tHomo sapiens haplotype T11 delta-globin (HBD) gene, complete cds\n",
      "AF339415.1\tAF339415\tHomo sapiens haplotype T10 delta-globin (HBD) gene, complete cds\n",
      "AF339414.1\tAF339414\tHomo sapiens haplotype T9 delta-globin (HBD) gene, complete cds\n",
      "AF339413.1\tAF339413\tHomo sapiens haplotype T8 delta-globin (HBD) gene, complete cds\n",
      "AF339412.1\tAF339412\tHomo sapiens haplotype T7 delta-globin (HBD) gene, complete cds\n",
      "AF339411.1\tAF339411\tHomo sapiens haplotype T6 delta-globin (HBD) gene, complete cds\n",
      "AF339410.1\tAF339410\tHomo sapiens haplotype T5 delta-globin (HBD) gene, complete cds\n",
      "AF339409.1\tAF339409\tHomo sapiens haplotype T4 delta-globin (HBD) gene, complete cds\n",
      "AF339408.1\tAF339408\tHomo sapiens haplotype T3 delta-globin (HBD) gene, complete cds\n",
      "AF339407.1\tAF339407\tHomo sapiens haplotype T2 delta-globin (HBD) gene, complete cds\n",
      "AF339406.1\tAF339406\tHomo sapiens haplotype T1 delta-globin (HBD) gene, complete cds\n",
      "AF339405.1\tAF339405\tHomo sapiens haplotype R5 delta-globin (HBD) gene, complete cds\n",
      "AF339404.1\tAF339404\tHomo sapiens haplotype R4 delta-globin (HBD) gene, complete cds\n",
      "AF339403.1\tAF339403\tHomo sapiens haplotype R3 delta-globin (HBD) gene, complete cds\n",
      "AF339402.1\tAF339402\tHomo sapiens haplotype R2 delta-globin (HBD) gene, complete cds\n",
      "AF339401.1\tAF339401\tHomo sapiens haplotype R1 delta-globin (HBD) gene, complete cds\n",
      "AY260740.1\tAY260740\tHomo sapiens beta globin chain gene, complete cds\n",
      "V00497.1\tV00497\tHuman messenger RNA for beta-globin\n",
      "46\n"
     ]
    }
   ],
   "source": [
    "records = SeqIO.parse(\"HEMOS.gb\", \"genbank\")\n",
    "times=0\n",
    "for i in records:\n",
    "    if (\"globin\" in i.description):\n",
    "        if (\"isolate\" in i.description)or (\"vector\" in i.description):\n",
    "            continue\n",
    "        else:\n",
    "            print(\"{}\\t{}\\t{}\".format(i.id,i.name,i.description))\n",
    "            times+=1\n",
    "print(times)"
   ]
  },
  {
   "cell_type": "markdown",
   "metadata": {},
   "source": [
    "2.6 Optional Exercises\n",
    "\n",
    "    collect the entries matching all criteria in a new list\n",
    "    save the filtered list to a FASTA file\n",
    "    Filter the list of sequence entries even further using your own criteria\n"
   ]
  },
  {
   "cell_type": "markdown",
   "metadata": {},
   "source": [
    "3.Bio.Seq and Bio.SeqRecord\n",
    "\n",
    "Working with sequences"
   ]
  },
  {
   "cell_type": "markdown",
   "metadata": {},
   "source": [
    "3.1 The DNA sequence\n",
    "\n",
    "Read the sequence of the sickle cell globin cDNA. Print the DNA sequence. Use the seq attribute of the SeqRecord object from the previous exercise:\n",
    "\n",
    "sequence = rec.seq\n"
   ]
  },
  {
   "cell_type": "code",
   "execution_count": 108,
   "metadata": {},
   "outputs": [],
   "source": [
    "sequence = rec.seq"
   ]
  },
  {
   "cell_type": "code",
   "execution_count": 109,
   "metadata": {},
   "outputs": [
    {
     "name": "stdout",
     "output_type": "stream",
     "text": [
      "ATGGTNCAYYTNACNCCNGTGGAGAAGTCYGCYGTNACNGCNCTNTGGGGYAAGGTNAAYGTGGATGAAGYYGGYGGYGAGGCCCTGGGCAGNCTGCTNGTGGTCTACCCTTGGACCCAGAGGTTCTTNGANTCNTTYGGGGATCTGNNNACNCCNGANGCAGTTATGGGCAACCCTAAGGTGAAGGCTCATGGCAAGAAAGTGCTCGGTGCCTTTAGTGATGGCCTGGCTCACCTGGACAACCTCAAGGGCACCTTTGCCACACTGAGTGAGCTGCACTGTGACAAGCTNCAYGTGGATCCTGAGAACTTCAGGCTNCTNGGCAACGTGYTNGTCTGYGTGCTGGCCCATCACTTTGGCAAAGAATTCACCCCACCAGTGCANGCNGCCTATCAGAAAGTGGTNGCTGGTGTNGCTAATGCCCTGGCCCACAAGTATCACTAAGCTNGCYTTYTTGYTGTCCAATTT\n"
     ]
    }
   ],
   "source": [
    "print(sequence)"
   ]
  },
  {
   "cell_type": "markdown",
   "metadata": {},
   "source": [
    "3.2 Transcribe DNA to RNA\n",
    "\n",
    "Transcribe the sickle cell cDNA sequence to RNA and print it. Use the transcribe() method of the Seq object."
   ]
  },
  {
   "cell_type": "code",
   "execution_count": 113,
   "metadata": {},
   "outputs": [
    {
     "name": "stdout",
     "output_type": "stream",
     "text": [
      "AUGGUNCAYYUNACNCCNGUGGAGAAGUCYGCYGUNACNGCNCUNUGGGGYAAGGUNAAYGUGGAUGAAGYYGGYGGYGAGGCCCUGGGCAGNCUGCUNGUGGUCUACCCUUGGACCCAGAGGUUCUUNGANUCNUUYGGGGAUCUGNNNACNCCNGANGCAGUUAUGGGCAACCCUAAGGUGAAGGCUCAUGGCAAGAAAGUGCUCGGUGCCUUUAGUGAUGGCCUGGCUCACCUGGACAACCUCAAGGGCACCUUUGCCACACUGAGUGAGCUGCACUGUGACAAGCUNCAYGUGGAUCCUGAGAACUUCAGGCUNCUNGGCAACGUGYUNGUCUGYGUGCUGGCCCAUCACUUUGGCAAAGAAUUCACCCCACCAGUGCANGCNGCCUAUCAGAAAGUGGUNGCUGGUGUNGCUAAUGCCCUGGCCCACAAGUAUCACUAAGCUNGCYUUYUUGYUGUCCAAUUU\n"
     ]
    }
   ],
   "source": [
    "transcribe=sequence.transcribe()\n",
    "print(transcribe)"
   ]
  },
  {
   "cell_type": "markdown",
   "metadata": {},
   "source": [
    "3.3 Translate RNA to protein\n",
    "\n",
    "Translate the sickle cell RNA to a protein sequence and print it. Use the translate() method of a Seq object.\n",
    "\n",
    "Save the protein sequence to a separate file."
   ]
  },
  {
   "cell_type": "code",
   "execution_count": 116,
   "metadata": {},
   "outputs": [
    {
     "name": "stdout",
     "output_type": "stream",
     "text": [
      "MVHXTPVEKSAVTALWGKVNVDEXGGEALGXLLVVYPWTQRFXXSFGDLXTPXAVMGNPKVKAHGKKVLGAFSDGLAHLDNLKGTFATLSELHCDKLHVDPENFRLLGNVXVCVLAHHFGKEFTPPVXAAYQKVVAGVANALAHKYH*AXXXXVQF\n"
     ]
    }
   ],
   "source": [
    "translate=transcribe.translate()\n",
    "print(translate)\n"
   ]
  },
  {
   "cell_type": "code",
   "execution_count": 117,
   "metadata": {},
   "outputs": [],
   "source": [
    "with open(\"protein_seq\",\"w+\") as file:\n",
    "    file.write(str(translate))"
   ]
  },
  {
   "cell_type": "markdown",
   "metadata": {},
   "source": [
    "3.4 Analyze annotations of beta-globin\n",
    "\n",
    "In the file with many globins, find the beta-globin entry with accession L26462. Use the field r.annotations['accessions'] on a SeqRecord object to find it. Write the entry to a separate GenBank file."
   ]
  },
  {
   "cell_type": "code",
   "execution_count": 135,
   "metadata": {},
   "outputs": [],
   "source": [
    "records = SeqIO.parse(\"HEMOS.gb\", \"genbank\")\n",
    "#print(records)\n",
    "for r in records:\n",
    "    if str(r.annotations[\"accessions\"][0]) == \"L26462\":\n",
    "        var_L26462=r\n",
    "        with open(\"L26462.gb\", \"w\") as output_handle:\n",
    "            SeqIO.write(r, output_handle, \"genbank\")\n",
    "        "
   ]
  },
  {
   "cell_type": "markdown",
   "metadata": {},
   "source": [
    "3.5 Extract sequence features\n",
    "\n",
    "Print all features of the L26452 entry. Use the field r.features on a SeqRecord object."
   ]
  },
  {
   "cell_type": "code",
   "execution_count": 169,
   "metadata": {},
   "outputs": [
    {
     "name": "stdout",
     "output_type": "stream",
     "text": [
      "ID: L26462.1\n",
      "Name: HUMBETGLOA\n",
      "Description: Human haplotype C4 beta-globin gene, complete cds\n",
      "Number of features: 26\n",
      "/keywords=['beta-globin']\n",
      "/accessions=['L26462']\n",
      "/topology=linear\n",
      "/sequence_version=1\n",
      "/organism=Homo sapiens\n",
      "/date=26-AUG-1994\n",
      "/references=[Reference(title='Molecular and population genetic analysis of allelic sequence diversity at the human beta-globin locus', ...)]\n",
      "/source=Homo sapiens (human)\n",
      "/taxonomy=['Eukaryota', 'Metazoa', 'Chordata', 'Craniata', 'Vertebrata', 'Euteleostomi', 'Mammalia', 'Eutheria', 'Euarchontoglires', 'Primates', 'Haplorrhini', 'Catarrhini', 'Hominidae', 'Homo']\n",
      "/molecule_type=DNA\n",
      "/data_file_division=PRI\n",
      "Seq('ACCTCCTATTTGACACCACTGATTACCCCATTGATAGTCACACTTTGGGTTGTA...ATC', IUPACAmbiguousDNA())\n"
     ]
    }
   ],
   "source": [
    "print(var_L26462)"
   ]
  },
  {
   "cell_type": "code",
   "execution_count": 155,
   "metadata": {},
   "outputs": [
    {
     "name": "stdout",
     "output_type": "stream",
     "text": [
      "[SeqFeature(FeatureLocation(ExactPosition(0), ExactPosition(3002), strand=1), type='source'), SeqFeature(FeatureLocation(ExactPosition(110), ExactPosition(111), strand=1), type='variation'), SeqFeature(FeatureLocation(ExactPosition(262), ExactPosition(263), strand=1), type='variation'), SeqFeature(FeatureLocation(ExactPosition(272), ExactPosition(273), strand=1), type='variation'), SeqFeature(FeatureLocation(ExactPosition(285), ExactPosition(287), strand=1), type='variation'), SeqFeature(FeatureLocation(ExactPosition(287), ExactPosition(288), strand=1), type='variation'), SeqFeature(FeatureLocation(ExactPosition(294), ExactPosition(296), strand=1), type='variation'), SeqFeature(FeatureLocation(ExactPosition(346), ExactPosition(347), strand=1), type='variation'), SeqFeature(FeatureLocation(ExactPosition(475), ExactPosition(476), strand=1), type='variation'), SeqFeature(FeatureLocation(ExactPosition(499), ExactPosition(500), strand=1), type='variation'), SeqFeature(CompoundLocation([FeatureLocation(ExactPosition(865), ExactPosition(957), strand=1), FeatureLocation(ExactPosition(1087), ExactPosition(1310), strand=1), FeatureLocation(ExactPosition(2160), ExactPosition(2289), strand=1)], 'join'), type='CDS', location_operator='join'), SeqFeature(FeatureLocation(BeforePosition(865), ExactPosition(957), strand=1), type='exon'), SeqFeature(FeatureLocation(ExactPosition(873), ExactPosition(874), strand=1), type='variation'), SeqFeature(FeatureLocation(ExactPosition(957), ExactPosition(1087), strand=1), type='intron'), SeqFeature(FeatureLocation(ExactPosition(1087), ExactPosition(1310), strand=1), type='exon'), SeqFeature(FeatureLocation(ExactPosition(1310), ExactPosition(2160), strand=1), type='intron'), SeqFeature(FeatureLocation(ExactPosition(1325), ExactPosition(1326), strand=1), type='variation'), SeqFeature(FeatureLocation(ExactPosition(1383), ExactPosition(1384), strand=1), type='variation'), SeqFeature(FeatureLocation(ExactPosition(1390), ExactPosition(1391), strand=1), type='variation'), SeqFeature(FeatureLocation(ExactPosition(1975), ExactPosition(1976), strand=1), type='variation'), SeqFeature(FeatureLocation(ExactPosition(2160), AfterPosition(2289), strand=1), type='exon'), SeqFeature(FeatureLocation(ExactPosition(2521), ExactPosition(2522), strand=1), type='variation'), SeqFeature(FeatureLocation(ExactPosition(2601), ExactPosition(2602), strand=1), type='variation'), SeqFeature(FeatureLocation(ExactPosition(2603), ExactPosition(2604), strand=1), type='variation'), SeqFeature(FeatureLocation(ExactPosition(2759), ExactPosition(2760), strand=1), type='variation'), SeqFeature(FeatureLocation(ExactPosition(2912), ExactPosition(2913), strand=1), type='variation')]\n"
     ]
    }
   ],
   "source": [
    "print(var_L26462.features)\n"
   ]
  },
  {
   "cell_type": "code",
   "execution_count": 190,
   "metadata": {},
   "outputs": [
    {
     "name": "stdout",
     "output_type": "stream",
     "text": [
      "type: source\n",
      "location: [0:3002](+)\n",
      "qualifiers:\n",
      "    Key: db_xref, Value: ['taxon:9606']\n",
      "    Key: haplotype, Value: ['C4']\n",
      "    Key: mol_type, Value: ['genomic DNA']\n",
      "    Key: note, Value: ['sequence found in a Melanesian population']\n",
      "    Key: organism, Value: ['Homo sapiens']\n",
      "\n",
      "type: variation\n",
      "location: [110:111](+)\n",
      "qualifiers:\n",
      "    Key: replace, Value: ['t']\n",
      "\n",
      "type: variation\n",
      "location: [262:263](+)\n",
      "qualifiers:\n",
      "    Key: note, Value: ['Rsa I polymorphism']\n",
      "    Key: replace, Value: ['t']\n",
      "\n",
      "type: variation\n",
      "location: [272:273](+)\n",
      "qualifiers:\n",
      "    Key: replace, Value: ['c']\n",
      "\n",
      "type: variation\n",
      "location: [285:287](+)\n",
      "qualifiers:\n",
      "    Key: note, Value: ['2 bp insertion of AT']\n",
      "    Key: replace, Value: ['']\n",
      "\n",
      "type: variation\n",
      "location: [287:288](+)\n",
      "qualifiers:\n",
      "    Key: replace, Value: ['t']\n",
      "\n",
      "type: variation\n",
      "location: [294:296](+)\n",
      "qualifiers:\n",
      "    Key: note, Value: ['1 bp deletion of C or 2 bp deletion of CT']\n",
      "    Key: replace, Value: ['']\n",
      "\n",
      "type: variation\n",
      "location: [346:347](+)\n",
      "qualifiers:\n",
      "    Key: replace, Value: ['c']\n",
      "\n",
      "type: variation\n",
      "location: [475:476](+)\n",
      "qualifiers:\n",
      "    Key: replace, Value: ['t']\n",
      "\n",
      "type: variation\n",
      "location: [499:500](+)\n",
      "qualifiers:\n",
      "    Key: replace, Value: ['c']\n",
      "\n",
      "type: CDS\n",
      "location: join{[865:957](+), [1087:1310](+), [2160:2289](+)}\n",
      "qualifiers:\n",
      "    Key: codon_start, Value: ['1']\n",
      "    Key: product, Value: ['beta-globin']\n",
      "    Key: protein_id, Value: ['AAA21100.1']\n",
      "    Key: translation, Value: ['MVHLTPEEKSAVTALWGKVNVDEVGGEALGRLLVVYPWTQRFFESFGDLSTPDAVMGNPKVKAHGKKVLGAFSDGLAHLDNLKGTFATLSELHCDKLHVDPENFRLLGNVLVCVLAHHFGKEFTPPVQAAYQKVVAGVANALAHKYH']\n",
      "\n",
      "type: exon\n",
      "location: [<865:957](+)\n",
      "qualifiers:\n",
      "    Key: number, Value: ['1']\n",
      "\n",
      "type: variation\n",
      "location: [873:874](+)\n",
      "qualifiers:\n",
      "    Key: replace, Value: ['c']\n",
      "\n",
      "type: intron\n",
      "location: [957:1087](+)\n",
      "qualifiers:\n",
      "    Key: number, Value: ['1']\n",
      "\n",
      "type: exon\n",
      "location: [1087:1310](+)\n",
      "qualifiers:\n",
      "    Key: number, Value: ['2']\n",
      "\n",
      "type: intron\n",
      "location: [1310:2160](+)\n",
      "qualifiers:\n",
      "    Key: number, Value: ['2']\n",
      "\n",
      "type: variation\n",
      "location: [1325:1326](+)\n",
      "qualifiers:\n",
      "    Key: note, Value: ['Ava II polymorphism']\n",
      "    Key: replace, Value: ['g']\n",
      "\n",
      "type: variation\n",
      "location: [1383:1384](+)\n",
      "qualifiers:\n",
      "    Key: replace, Value: ['g']\n",
      "\n",
      "type: variation\n",
      "location: [1390:1391](+)\n",
      "qualifiers:\n",
      "    Key: replace, Value: ['t']\n",
      "\n",
      "type: variation\n",
      "location: [1975:1976](+)\n",
      "qualifiers:\n",
      "    Key: replace, Value: ['t']\n",
      "\n",
      "type: exon\n",
      "location: [2160:>2289](+)\n",
      "qualifiers:\n",
      "    Key: number, Value: ['3']\n",
      "\n",
      "type: variation\n",
      "location: [2521:2522](+)\n",
      "qualifiers:\n",
      "    Key: replace, Value: ['c']\n",
      "\n",
      "type: variation\n",
      "location: [2601:2602](+)\n",
      "qualifiers:\n",
      "    Key: replace, Value: ['a']\n",
      "\n",
      "type: variation\n",
      "location: [2603:2604](+)\n",
      "qualifiers:\n",
      "    Key: replace, Value: ['c']\n",
      "\n",
      "type: variation\n",
      "location: [2759:2760](+)\n",
      "qualifiers:\n",
      "    Key: note, Value: ['Hinf I polymorphism']\n",
      "    Key: replace, Value: ['t']\n",
      "\n",
      "type: variation\n",
      "location: [2912:2913](+)\n",
      "qualifiers:\n",
      "    Key: replace, Value: ['g']\n",
      "\n"
     ]
    }
   ],
   "source": [
    "for feature in var_L26462.features:\n",
    "    print(feature)"
   ]
  },
  {
   "cell_type": "code",
   "execution_count": 189,
   "metadata": {},
   "outputs": [
    {
     "name": "stdout",
     "output_type": "stream",
     "text": [
      "source\n",
      "variation\n",
      "variation\n",
      "variation\n",
      "variation\n",
      "variation\n",
      "variation\n",
      "variation\n",
      "variation\n",
      "variation\n",
      "CDS\n",
      "exon\n",
      "variation\n",
      "intron\n",
      "exon\n",
      "intron\n",
      "variation\n",
      "variation\n",
      "variation\n",
      "variation\n",
      "exon\n",
      "variation\n",
      "variation\n",
      "variation\n",
      "variation\n",
      "variation\n"
     ]
    }
   ],
   "source": [
    "for feature in var_L26462.features:\n",
    "    print(feature.type)"
   ]
  },
  {
   "cell_type": "markdown",
   "metadata": {},
   "source": [
    "3.6 Extract exons\n",
    "\n",
    "Print all exon features and their attributes start, end and nofuzzy_start, nofuzzy_end:\n",
    "\n",
    "for feature in seq['features']:\n",
    "    print(feature)\n",
    "    ...\n",
    "    # add printing attributes here\n",
    "\n",
    "For each exon, extract the interval\n",
    "\n",
    "feature[nofuzzy_start:nofuzzy_end]\n",
    "\n",
    "Use the indices to extract portions of the complete sequence. Concatenate all exon sequences to a single string."
   ]
  },
  {
   "cell_type": "code",
   "execution_count": null,
   "metadata": {},
   "outputs": [],
   "source": []
  },
  {
   "cell_type": "code",
   "execution_count": 217,
   "metadata": {},
   "outputs": [
    {
     "name": "stdout",
     "output_type": "stream",
     "text": [
      "start:<865,end:957,nofuzzy_start:865,nofuzzy_end:957\n",
      "start:1087,end:1310,nofuzzy_start:1087,nofuzzy_end:1310\n",
      "start:2160,end:>2289,nofuzzy_start:2160,nofuzzy_end:2289\n",
      "3\n"
     ]
    }
   ],
   "source": [
    "times=0\n",
    "\n",
    "single_string=\"\"\n",
    "for feature in var_L26462.features:\n",
    "    if feature.type==\"exon\":\n",
    "        print(\"start:{},end:{},nofuzzy_start:{},nofuzzy_end:{}\".format(feature.location.start,feature.location.end,feature.location.nofuzzy_start,feature.location.nofuzzy_end))\n",
    "        exon=var_L26462.seq[feature.location.nofuzzy_start:feature.location.nofuzzy_end]\n",
    "        single_string+=exon\n",
    "        times+=1\n",
    "print(times)"
   ]
  },
  {
   "cell_type": "code",
   "execution_count": 218,
   "metadata": {},
   "outputs": [
    {
     "name": "stdout",
     "output_type": "stream",
     "text": [
      "ATGGTGCATCTGACTCCTGAGGAGAAGTCTGCCGTTACTGCCCTGTGGGGCAAGGTGAACGTGGATGAAGTTGGTGGTGAGGCCCTGGGCAGGCTGCTGGTGGTCTACCCTTGGACCCAGAGGTTCTTTGAGTCCTTTGGGGATCTGTCCACTCCTGATGCTGTTATGGGCAACCCTAAGGTGAAGGCTCATGGCAAGAAAGTGCTCGGTGCCTTTAGTGATGGCCTGGCTCACCTGGACAACCTCAAGGGCACCTTTGCCACACTGAGTGAGCTGCACTGTGACAAGCTGCACGTGGATCCTGAGAACTTCAGGCTCCTGGGCAACGTGCTGGTCTGTGTGCTGGCCCATCACTTTGGCAAAGAATTCACCCCACCAGTGCAGGCTGCCTATCAGAAAGTGGTGGCTGGTGTGGCTAATGCCCTGGCCCACAAGTATCACTAA\n",
      "444\n"
     ]
    }
   ],
   "source": [
    "print(single_string)\n",
    "print(len(single_string))"
   ]
  },
  {
   "cell_type": "markdown",
   "metadata": {},
   "source": [
    "3.7 Extract the beta-globin protein sequence\n",
    "\n",
    "Transcribe and translate the concatenated exon sequence and print it."
   ]
  },
  {
   "cell_type": "code",
   "execution_count": 212,
   "metadata": {},
   "outputs": [
    {
     "name": "stdout",
     "output_type": "stream",
     "text": [
      "MVHLTPEEKSAVTALWGKVNVDEVGGEALGRLLVVYPWTQRFFESFGDLSTPDAVMGNPKVKAHGKKVLGAFSDGLAHLDNLKGTFATLSELHCDKLHVDPENFRLLGNVLVCVLAHHFGKEFTPPVQAAYQKVVAGVANALAHKYH*MVHLTPEEKSAVTALWGKVNVDEVGGEALGRLLVVYPWTQRFFESFGDLSTPDAVMGNPKVKAHGKKVLGAFSDGLAHLDNLKGTFATLSELHCDKLHVDPENFRLLGNVLVCVLAHHFGKEFTPPVQAAYQKVVAGVANALAHKYH*MVHLTPEEKSAVTALWGKVNVDEVGGEALGRLLVVYPWTQRFFESFGDLSTPDAVMGNPKVKAHGKKVLGAFSDGLAHLDNLKGTFATLSELHCDKLHVDPENFRLLGNVLVCVLAHHFGKEFTPPVQAAYQKVVAGVANALAHKYH*\n"
     ]
    }
   ],
   "source": [
    "single_str_trasnscribe=single_string.transcribe()\n",
    "single_str_trasnslate=single_str_trasnscribe.translate()\n",
    "print(single_str_trasnslate)"
   ]
  },
  {
   "cell_type": "markdown",
   "metadata": {},
   "source": [
    "3.8 Results\n",
    "\n",
    "Print the sickle cell and healthy beta-globin sequence in subsequent lines or a text file. Also print the two corresponding protein sequences in subsequent lines. What differences do you see?"
   ]
  },
  {
   "cell_type": "code",
   "execution_count": 202,
   "metadata": {},
   "outputs": [
    {
     "name": "stdout",
     "output_type": "stream",
     "text": [
      "sickle cell:\n",
      "ATGGTNCAYYTNACNCCNGTGGAGAAGTCYGCYGTNACNGCNCTNTGGGGYAAGGTNAAYGTGGATGAAGYYGGYGGYGAGGCCCTGGGCAGNCTGCTNGTGGTCTACCCTTGGACCCAGAGGTTCTTNGANTCNTTYGGGGATCTGNNNACNCCNGANGCAGTTATGGGCAACCCTAAGGTGAAGGCTCATGGCAAGAAAGTGCTCGGTGCCTTTAGTGATGGCCTGGCTCACCTGGACAACCTCAAGGGCACCTTTGCCACACTGAGTGAGCTGCACTGTGACAAGCTNCAYGTGGATCCTGAGAACTTCAGGCTNCTNGGCAACGTGYTNGTCTGYGTGCTGGCCCATCACTTTGGCAAAGAATTCACCCCACCAGTGCANGCNGCCTATCAGAAAGTGGTNGCTGGTGTNGCTAATGCCCTGGCCCACAAGTATCACTAAGCTNGCYTTYTTGYTGTCCAATTT\n",
      "healthy beta-globin:\n",
      "ATGGTGCATCTGACTCCTGAGGAGAAGTCTGCCGTTACTGCCCTGTGGGGCAAGGTGAACGTGGATGAAGTTGGTGGTGAGGCCCTGGGCAGGCTGCTGGTGGTCTACCCTTGGACCCAGAGGTTCTTTGAGTCCTTTGGGGATCTGTCCACTCCTGATGCTGTTATGGGCAACCCTAAGGTGAAGGCTCATGGCAAGAAAGTGCTCGGTGCCTTTAGTGATGGCCTGGCTCACCTGGACAACCTCAAGGGCACCTTTGCCACACTGAGTGAGCTGCACTGTGACAAGCTGCACGTGGATCCTGAGAACTTCAGGCTCCTGGGCAACGTGCTGGTCTGTGTGCTGGCCCATCACTTTGGCAAAGAATTCACCCCACCAGTGCAGGCTGCCTATCAGAAAGTGGTGGCTGGTGTGGCTAATGCCCTGGCCCACAAGTATCACTAA\n"
     ]
    }
   ],
   "source": [
    "print(\"sickle cell:\\n{}\\nhealthy beta-globin:\\n{}\".format(sequence,single_string))"
   ]
  },
  {
   "cell_type": "code",
   "execution_count": 203,
   "metadata": {},
   "outputs": [
    {
     "name": "stdout",
     "output_type": "stream",
     "text": [
      "sickle cell:\n",
      "MVHXTPVEKSAVTALWGKVNVDEXGGEALGXLLVVYPWTQRFXXSFGDLXTPXAVMGNPKVKAHGKKVLGAFSDGLAHLDNLKGTFATLSELHCDKLHVDPENFRLLGNVXVCVLAHHFGKEFTPPVXAAYQKVVAGVANALAHKYH*AXXXXVQF\n",
      "healthy beta-globin:\n",
      "MVHLTPEEKSAVTALWGKVNVDEVGGEALGRLLVVYPWTQRFFESFGDLSTPDAVMGNPKVKAHGKKVLGAFSDGLAHLDNLKGTFATLSELHCDKLHVDPENFRLLGNVLVCVLAHHFGKEFTPPVQAAYQKVVAGVANALAHKYH*\n"
     ]
    }
   ],
   "source": [
    "print(\"sickle cell:\\n{}\\nhealthy beta-globin:\\n{}\".format(translate,single_str_trasnslate))"
   ]
  },
  {
   "cell_type": "markdown",
   "metadata": {},
   "source": [
    "4.Pattern Matching\n",
    "\n",
    "Identification of restriction sites"
   ]
  },
  {
   "cell_type": "markdown",
   "metadata": {},
   "source": [
    "4.1 Familiarize with Regular Expressions\n",
    "\n",
    "Do the first 3-4 exercises on the RegexOne website (http://www.regexone.com)\n",
    "\n",
    "Experiment with the Regex101 website. "
   ]
  },
  {
   "cell_type": "markdown",
   "metadata": {},
   "source": [
    "4.2 Search for a start codon\n",
    "\n",
    "Use the re.search() function to locate the start codon (ATG) in the cDNA sequence of healthy beta-globin. The first parameter is a search pattern string, and the second is the string to be searched:\n",
    "\n",
    "import re\n",
    "\n",
    "match = re.search('ATG', sequence)\n",
    "if match:\n",
    "    print(match.start, match.stop)\n"
   ]
  },
  {
   "cell_type": "code",
   "execution_count": 260,
   "metadata": {},
   "outputs": [
    {
     "name": "stdout",
     "output_type": "stream",
     "text": [
      "<_sre.SRE_Match object; span=(0, 3), match='ATG'>\n",
      "<built-in method start of _sre.SRE_Match object at 0x7fd181a566b0>\n"
     ]
    }
   ],
   "source": [
    "import re\n",
    "match = re.search(\"ATG\", str(single_string))\n",
    "print(match)\n",
    "if match: \n",
    "    print(match.start)\n",
    "    "
   ]
  },
  {
   "cell_type": "markdown",
   "metadata": {},
   "source": [
    "4.3 Search for a restriction site\n",
    "\n",
    "Create a regular expression using the re.compile() function for the restriction enzyme DdeI (cuts at NN^CTNAG). Search with a regular expression in both sickle cell and beta-globin DNA sequences.\n",
    "\n",
    "For simplicity, copy-paste both sequences to string variables in your program.\n",
    "\n",
    "If the search method returns a match, print the start and stop found in both DNA sequences."
   ]
  },
  {
   "cell_type": "code",
   "execution_count": 257,
   "metadata": {},
   "outputs": [
    {
     "name": "stdout",
     "output_type": "stream",
     "text": [
      "None\n",
      "None\n"
     ]
    }
   ],
   "source": [
    "Ddel_enzyme= re.compile(r\"NN^CTNAG\")\n",
    "print(Ddel_enzyme.match(str(sequence)))\n",
    "print(Ddel_enzyme.match(str(single_string)))"
   ]
  },
  {
   "cell_type": "markdown",
   "metadata": {},
   "source": [
    "4.4 Try more restriction enzymes\n",
    "\n",
    "Test patterns for the restriction sites of:\n",
    "\n",
    "HinfI (GTNNAC)\n",
    "BceAI (ACGGCNNNNNNNNNNNNN)\n",
    "BseRI (GAGGAGNNNNNNNNNN)\n",
    "EcoRI (GAATTC)\n",
    "MstII (CCTNAGG) \n",
    "\n",
    "on both DNA sequences. Which restriction enzyme could you use to specifically identify carriers of the sickle cell anemia gene?"
   ]
  },
  {
   "cell_type": "code",
   "execution_count": 241,
   "metadata": {},
   "outputs": [
    {
     "name": "stdout",
     "output_type": "stream",
     "text": [
      "None\n",
      "None\n"
     ]
    }
   ],
   "source": [
    "HinfI_enzyme = re.compile(r\"GTNNAC\")\n",
    "print(HinfI_enzyme.match(str(sequence)))\n",
    "print(HinfI_enzyme.match(str(single_string)))"
   ]
  },
  {
   "cell_type": "code",
   "execution_count": 242,
   "metadata": {},
   "outputs": [
    {
     "name": "stdout",
     "output_type": "stream",
     "text": [
      "None\n",
      "None\n"
     ]
    }
   ],
   "source": [
    "BceAI_enzyme = re.compile(r\"ACGGCNNNNNNNNNNNNN\")\n",
    "print(BceAI_enzyme.match(str(sequence)))\n",
    "print(BceAI_enzyme.match(str(single_string)))"
   ]
  },
  {
   "cell_type": "code",
   "execution_count": 243,
   "metadata": {},
   "outputs": [
    {
     "name": "stdout",
     "output_type": "stream",
     "text": [
      "None\n",
      "None\n"
     ]
    }
   ],
   "source": [
    "BseRI_enzyme = re.compile(r\"GAGGAGNNNNNNNNNN\")\n",
    "print(BseRI_enzyme.match(str(sequence)))\n",
    "print(BseRI_enzyme.match(str(single_string)))"
   ]
  },
  {
   "cell_type": "code",
   "execution_count": 258,
   "metadata": {},
   "outputs": [
    {
     "name": "stdout",
     "output_type": "stream",
     "text": [
      "None\n",
      "None\n"
     ]
    }
   ],
   "source": [
    "EcoRI_enzyme = re.compile(r\"GAATTC\")\n",
    "print(EcoRI_enzyme.match(str(sequence)))\n",
    "print(EcoRI_enzyme.match(str(single_string)))"
   ]
  },
  {
   "cell_type": "code",
   "execution_count": 246,
   "metadata": {},
   "outputs": [
    {
     "name": "stdout",
     "output_type": "stream",
     "text": [
      "None\n",
      "None\n"
     ]
    }
   ],
   "source": [
    "MstII_enzyme = re.compile(r\"CCTNAGG\")\n",
    "print(MstII_enzyme.match(str(sequence)))\n",
    "print(MstII_enzyme.match(str(single_string)))"
   ]
  },
  {
   "cell_type": "markdown",
   "metadata": {},
   "source": [
    "4.5 Replace missing characters\n",
    "\n",
    "To facilitate the restriction analysis, replace the N's in the sickle cell DNA by the corresponding positions from the healthy DNA. Print the resulting DNA sequence."
   ]
  },
  {
   "cell_type": "code",
   "execution_count": 325,
   "metadata": {},
   "outputs": [
    {
     "name": "stdout",
     "output_type": "stream",
     "text": [
      "['A', 'T', 'G', 'G', 'T', 'N', 'C', 'A', 'Y', 'Y', 'T', 'N', 'A', 'C', 'N', 'C', 'C', 'N', 'G', 'T', 'G', 'G', 'A', 'G', 'A', 'A', 'G', 'T', 'C', 'Y', 'G', 'C', 'Y', 'G', 'T', 'N', 'A', 'C', 'N', 'G', 'C', 'N', 'C', 'T', 'N', 'T', 'G', 'G', 'G', 'G', 'Y', 'A', 'A', 'G', 'G', 'T', 'N', 'A', 'A', 'Y', 'G', 'T', 'G', 'G', 'A', 'T', 'G', 'A', 'A', 'G', 'Y', 'Y', 'G', 'G', 'Y', 'G', 'G', 'Y', 'G', 'A', 'G', 'G', 'C', 'C', 'C', 'T', 'G', 'G', 'G', 'C', 'A', 'G', 'N', 'C', 'T', 'G', 'C', 'T', 'N', 'G', 'T', 'G', 'G', 'T', 'C', 'T', 'A', 'C', 'C', 'C', 'T', 'T', 'G', 'G', 'A', 'C', 'C', 'C', 'A', 'G', 'A', 'G', 'G', 'T', 'T', 'C', 'T', 'T', 'N', 'G', 'A', 'N', 'T', 'C', 'N', 'T', 'T', 'Y', 'G', 'G', 'G', 'G', 'A', 'T', 'C', 'T', 'G', 'N', 'N', 'N', 'A', 'C', 'N', 'C', 'C', 'N', 'G', 'A', 'N', 'G', 'C', 'A', 'G', 'T', 'T', 'A', 'T', 'G', 'G', 'G', 'C', 'A', 'A', 'C', 'C', 'C', 'T', 'A', 'A', 'G', 'G', 'T', 'G', 'A', 'A', 'G', 'G', 'C', 'T', 'C', 'A', 'T', 'G', 'G', 'C', 'A', 'A', 'G', 'A', 'A', 'A', 'G', 'T', 'G', 'C', 'T', 'C', 'G', 'G', 'T', 'G', 'C', 'C', 'T', 'T', 'T', 'A', 'G', 'T', 'G', 'A', 'T', 'G', 'G', 'C', 'C', 'T', 'G', 'G', 'C', 'T', 'C', 'A', 'C', 'C', 'T', 'G', 'G', 'A', 'C', 'A', 'A', 'C', 'C', 'T', 'C', 'A', 'A', 'G', 'G', 'G', 'C', 'A', 'C', 'C', 'T', 'T', 'T', 'G', 'C', 'C', 'A', 'C', 'A', 'C', 'T', 'G', 'A', 'G', 'T', 'G', 'A', 'G', 'C', 'T', 'G', 'C', 'A', 'C', 'T', 'G', 'T', 'G', 'A', 'C', 'A', 'A', 'G', 'C', 'T', 'N', 'C', 'A', 'Y', 'G', 'T', 'G', 'G', 'A', 'T', 'C', 'C', 'T', 'G', 'A', 'G', 'A', 'A', 'C', 'T', 'T', 'C', 'A', 'G', 'G', 'C', 'T', 'N', 'C', 'T', 'N', 'G', 'G', 'C', 'A', 'A', 'C', 'G', 'T', 'G', 'Y', 'T', 'N', 'G', 'T', 'C', 'T', 'G', 'Y', 'G', 'T', 'G', 'C', 'T', 'G', 'G', 'C', 'C', 'C', 'A', 'T', 'C', 'A', 'C', 'T', 'T', 'T', 'G', 'G', 'C', 'A', 'A', 'A', 'G', 'A', 'A', 'T', 'T', 'C', 'A', 'C', 'C', 'C', 'C', 'A', 'C', 'C', 'A', 'G', 'T', 'G', 'C', 'A', 'N', 'G', 'C', 'N', 'G', 'C', 'C', 'T', 'A', 'T', 'C', 'A', 'G', 'A', 'A', 'A', 'G', 'T', 'G', 'G', 'T', 'N', 'G', 'C', 'T', 'G', 'G', 'T', 'G', 'T', 'N', 'G', 'C', 'T', 'A', 'A', 'T', 'G', 'C', 'C', 'C', 'T', 'G', 'G', 'C', 'C', 'C', 'A', 'C', 'A', 'A', 'G', 'T', 'A', 'T', 'C', 'A', 'C', 'T', 'A', 'A', 'G', 'C', 'T', 'N', 'G', 'C', 'Y', 'T', 'T', 'Y', 'T', 'T', 'G', 'Y', 'T', 'G', 'T', 'C', 'C', 'A', 'A', 'T', 'T', 'T']\n",
      "468\n",
      "444\n"
     ]
    }
   ],
   "source": [
    "new_sickle_cell=list(sequence)\n",
    "print(new_sickle_cell)\n",
    "print(len(new_sickle_cell))\n",
    "print(len(single_string))"
   ]
  },
  {
   "cell_type": "code",
   "execution_count": 328,
   "metadata": {},
   "outputs": [
    {
     "name": "stdout",
     "output_type": "stream",
     "text": [
      "29\n",
      "ATGGTGCAYYTGACTCCTGTGGAGAAGTCYGCYGTTACTGCCCTGTGGGGYAAGGTGAAYGTGGATGAAGYYGGYGGYGAGGCCCTGGGCAGGCTGCTGGTGGTCTACCCTTGGACCCAGAGGTTCTTTGAGTCCTTYGGGGATCTGTCCACTCCTGATGCAGTTATGGGCAACCCTAAGGTGAAGGCTCATGGCAAGAAAGTGCTCGGTGCCTTTAGTGATGGCCTGGCTCACCTGGACAACCTCAAGGGCACCTTTGCCACACTGAGTGAGCTGCACTGTGACAAGCTGCAYGTGGATCCTGAGAACTTCAGGCTCCTGGGCAACGTGYTGGTCTGYGTGCTGGCCCATCACTTTGGCAAAGAATTCACCCCACCAGTGCAGGCTGCCTATCAGAAAGTGGTGGCTGGTGTGGCTAATGCCCTGGCCCACAAGTATCACTAAGCTNGCYTTYTTGYTGTCCAATTT\n"
     ]
    }
   ],
   "source": [
    "\n",
    "times=0\n",
    "for i in re.finditer(r\"N\",str(sequence)):\n",
    "    index=i.span()\n",
    "    times+=1\n",
    "print(times)\n",
    "\n",
    "times_2=0\n",
    "for i in re.finditer(r\"N\",str(sequence)):\n",
    "    index=i.span()\n",
    "    if times_2+1<times:\n",
    "    #print(index)\n",
    "    #print(index[0])\n",
    "    #print(type(index[0]))\n",
    "        new_sickle_cell[index[0]]=single_string[index[0]]\n",
    "    #print(type(single_string[index[0]]))\n",
    "    times_2+=1\n",
    "new_sickle_cell=\"\".join(new_sickle_cell)\n",
    "print(new_sickle_cell)\n",
    "    "
   ]
  },
  {
   "cell_type": "code",
   "execution_count": 318,
   "metadata": {},
   "outputs": [
    {
     "name": "stdout",
     "output_type": "stream",
     "text": [
      "<class 'str'>\n",
      "<class 'str'>\n"
     ]
    }
   ],
   "source": [
    "print(type(single_string[5]))\n",
    "print(type(new_sickle_cell[5]))"
   ]
  },
  {
   "cell_type": "code",
   "execution_count": null,
   "metadata": {},
   "outputs": [],
   "source": []
  }
 ],
 "metadata": {
  "kernelspec": {
   "display_name": "Python 3",
   "language": "python",
   "name": "python3"
  },
  "language_info": {
   "codemirror_mode": {
    "name": "ipython",
    "version": 3
   },
   "file_extension": ".py",
   "mimetype": "text/x-python",
   "name": "python",
   "nbconvert_exporter": "python",
   "pygments_lexer": "ipython3",
   "version": "3.8.5"
  }
 },
 "nbformat": 4,
 "nbformat_minor": 2
}
